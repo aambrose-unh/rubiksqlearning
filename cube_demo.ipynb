{
 "metadata": {
  "language_info": {
   "codemirror_mode": {
    "name": "ipython",
    "version": 3
   },
   "file_extension": ".py",
   "mimetype": "text/x-python",
   "name": "python",
   "nbconvert_exporter": "python",
   "pygments_lexer": "ipython3",
   "version": "3.9.0-final"
  },
  "orig_nbformat": 2,
  "kernelspec": {
   "name": "python3",
   "display_name": "Python 3"
  }
 },
 "nbformat": 4,
 "nbformat_minor": 2,
 "cells": [
  {
   "cell_type": "code",
   "execution_count": 1,
   "metadata": {},
   "outputs": [],
   "source": [
    "import cube_sim"
   ]
  },
  {
   "cell_type": "code",
   "execution_count": 2,
   "metadata": {},
   "outputs": [],
   "source": [
    "demo_cube = cube_sim.cube()"
   ]
  },
  {
   "cell_type": "code",
   "execution_count": 3,
   "metadata": {},
   "outputs": [
    {
     "output_type": "stream",
     "name": "stdout",
     "text": [
      "\n\n[' ' ' '] ['w' 'w'] [' ' ' '] [' ' ' '] \n[' ' ' '] ['w' 'w'] [' ' ' '] [' ' ' '] \n\n['r' 'r'] ['b' 'b'] ['o' 'o'] ['g' 'g'] \n['r' 'r'] ['b' 'b'] ['o' 'o'] ['g' 'g'] \n\n[' ' ' '] ['y' 'y'] [' ' ' '] [' ' ' '] \n[' ' ' '] ['y' 'y'] [' ' ' '] [' ' ' '] "
     ]
    }
   ],
   "source": [
    "demo_cube.showCube()"
   ]
  },
  {
   "cell_type": "code",
   "execution_count": 4,
   "metadata": {},
   "outputs": [
    {
     "output_type": "execute_result",
     "data": {
      "text/plain": [
       "{'front': array([['b', 'b'],\n",
       "        ['b', 'b']], dtype='<U1'),\n",
       " 'top': array([['w', 'w'],\n",
       "        ['w', 'w']], dtype='<U1'),\n",
       " 'bottom': array([['y', 'y'],\n",
       "        ['y', 'y']], dtype='<U1'),\n",
       " 'left': array([['r', 'r'],\n",
       "        ['r', 'r']], dtype='<U1'),\n",
       " 'right': array([['o', 'o'],\n",
       "        ['o', 'o']], dtype='<U1'),\n",
       " 'back': array([['g', 'g'],\n",
       "        ['g', 'g']], dtype='<U1')}"
      ]
     },
     "metadata": {},
     "execution_count": 4
    }
   ],
   "source": [
    "demo_cube.faces"
   ]
  },
  {
   "cell_type": "code",
   "execution_count": 12,
   "metadata": {},
   "outputs": [
    {
     "output_type": "execute_result",
     "data": {
      "text/plain": [
       "array([['g', 'w'],\n",
       "       ['b', 'b']], dtype='<U1')"
      ]
     },
     "metadata": {},
     "execution_count": 12
    }
   ],
   "source": [
    "demo_cube.front"
   ]
  },
  {
   "cell_type": "code",
   "execution_count": 15,
   "metadata": {},
   "outputs": [
    {
     "output_type": "execute_result",
     "data": {
      "text/plain": [
       "[<function cube_sim.cube.clockwise(self)>,\n",
       " <function cube_sim.cube.counterclockwise(self)>,\n",
       " <function cube_sim.cube.forward(self)>,\n",
       " <function cube_sim.cube.backward(self)>,\n",
       " <function cube_sim.cube.toLeft(self)>,\n",
       " <function cube_sim.cube.toRight(self)>]"
      ]
     },
     "metadata": {},
     "execution_count": 15
    }
   ],
   "source": [
    "demo_cube.al"
   ]
  },
  {
   "cell_type": "code",
   "execution_count": 5,
   "metadata": {},
   "outputs": [
    {
     "output_type": "stream",
     "name": "stdout",
     "text": [
      "\n\n[' ' ' '] ['w' 'w'] [' ' ' '] [' ' ' '] \n[' ' ' '] ['r' 'r'] [' ' ' '] [' ' ' '] \n\n['r' 'y'] ['b' 'b'] ['w' 'o'] ['g' 'g'] \n['r' 'y'] ['b' 'b'] ['w' 'o'] ['g' 'g'] \n\n[' ' ' '] ['o' 'o'] [' ' ' '] [' ' ' '] \n[' ' ' '] ['y' 'y'] [' ' ' '] [' ' ' '] "
     ]
    }
   ],
   "source": [
    "demo_cube.clockwise()\n",
    "demo_cube.showCube()"
   ]
  },
  {
   "cell_type": "code",
   "execution_count": 6,
   "metadata": {},
   "outputs": [
    {
     "output_type": "stream",
     "name": "stdout",
     "text": [
      "\n\n[' ' ' '] ['w' 'w'] [' ' ' '] [' ' ' '] \n[' ' ' '] ['w' 'w'] [' ' ' '] [' ' ' '] \n\n['r' 'r'] ['b' 'b'] ['o' 'o'] ['g' 'g'] \n['r' 'r'] ['b' 'b'] ['o' 'o'] ['g' 'g'] \n\n[' ' ' '] ['y' 'y'] [' ' ' '] [' ' ' '] \n[' ' ' '] ['y' 'y'] [' ' ' '] [' ' ' '] "
     ]
    }
   ],
   "source": [
    "demo_cube.counterclockwise()\n",
    "demo_cube.showCube()"
   ]
  },
  {
   "cell_type": "code",
   "execution_count": 7,
   "metadata": {},
   "outputs": [
    {
     "output_type": "stream",
     "name": "stdout",
     "text": [
      "\n\n[' ' ' '] ['g' 'w'] [' ' ' '] [' ' ' '] \n[' ' ' '] ['g' 'w'] [' ' ' '] [' ' ' '] \n\n['r' 'r'] ['w' 'b'] ['o' 'o'] ['g' 'y'] \n['r' 'r'] ['w' 'b'] ['o' 'o'] ['g' 'y'] \n\n[' ' ' '] ['b' 'y'] [' ' ' '] [' ' ' '] \n[' ' ' '] ['b' 'y'] [' ' ' '] [' ' ' '] "
     ]
    }
   ],
   "source": [
    "demo_cube.forward()\n",
    "demo_cube.showCube()"
   ]
  },
  {
   "cell_type": "code",
   "execution_count": 8,
   "metadata": {},
   "outputs": [
    {
     "output_type": "stream",
     "name": "stdout",
     "text": [
      "\n\n[' ' ' '] ['w' 'w'] [' ' ' '] [' ' ' '] \n[' ' ' '] ['w' 'w'] [' ' ' '] [' ' ' '] \n\n['r' 'r'] ['b' 'b'] ['o' 'o'] ['g' 'g'] \n['r' 'r'] ['b' 'b'] ['o' 'o'] ['g' 'g'] \n\n[' ' ' '] ['y' 'y'] [' ' ' '] [' ' ' '] \n[' ' ' '] ['y' 'y'] [' ' ' '] [' ' ' '] "
     ]
    }
   ],
   "source": [
    "demo_cube.backward()\n",
    "demo_cube.showCube()"
   ]
  },
  {
   "cell_type": "code",
   "execution_count": 9,
   "metadata": {},
   "outputs": [
    {
     "output_type": "stream",
     "name": "stdout",
     "text": [
      "\n\n[' ' ' '] ['w' 'w'] [' ' ' '] [' ' ' '] \n[' ' ' '] ['w' 'w'] [' ' ' '] [' ' ' '] \n\n['b' 'b'] ['o' 'o'] ['g' 'g'] ['r' 'r'] \n['r' 'r'] ['b' 'b'] ['o' 'o'] ['g' 'g'] \n\n[' ' ' '] ['y' 'y'] [' ' ' '] [' ' ' '] \n[' ' ' '] ['y' 'y'] [' ' ' '] [' ' ' '] "
     ]
    }
   ],
   "source": [
    "demo_cube.toLeft()\n",
    "demo_cube.showCube()"
   ]
  },
  {
   "cell_type": "code",
   "execution_count": 10,
   "metadata": {},
   "outputs": [
    {
     "output_type": "stream",
     "name": "stdout",
     "text": [
      "\n\n[' ' ' '] ['w' 'w'] [' ' ' '] [' ' ' '] \n[' ' ' '] ['w' 'w'] [' ' ' '] [' ' ' '] \n\n['r' 'r'] ['b' 'b'] ['o' 'o'] ['g' 'g'] \n['r' 'r'] ['b' 'b'] ['o' 'o'] ['g' 'g'] \n\n[' ' ' '] ['y' 'y'] [' ' ' '] [' ' ' '] \n[' ' ' '] ['y' 'y'] [' ' ' '] [' ' ' '] "
     ]
    }
   ],
   "source": [
    "demo_cube.toRight()\n",
    "demo_cube.showCube()"
   ]
  },
  {
   "cell_type": "code",
   "execution_count": 11,
   "metadata": {},
   "outputs": [
    {
     "output_type": "stream",
     "name": "stdout",
     "text": [
      "\n\n[' ' ' '] ['o' 'y'] [' ' ' '] [' ' ' '] \n[' ' ' '] ['r' 'b'] [' ' ' '] [' ' ' '] \n\n['w' 'w'] ['g' 'w'] ['r' 'b'] ['r' 'g'] \n['g' 'y'] ['b' 'b'] ['w' 'o'] ['g' 'y'] \n\n[' ' ' '] ['o' 'o'] [' ' ' '] [' ' ' '] \n[' ' ' '] ['r' 'y'] [' ' ' '] [' ' ' '] "
     ]
    }
   ],
   "source": [
    "demo_cube.randomize(num_actions=15)\n",
    "demo_cube.showCube()"
   ]
  },
  {
   "cell_type": "code",
   "execution_count": null,
   "metadata": {},
   "outputs": [],
   "source": []
  }
 ]
}