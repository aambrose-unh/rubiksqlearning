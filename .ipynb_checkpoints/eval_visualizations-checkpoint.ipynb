{
 "cells": [
  {
   "cell_type": "code",
   "execution_count": 1,
   "metadata": {},
   "outputs": [],
   "source": [
    "import agent\n",
    "from importlib import reload \n",
    "import cube_sim\n",
    "# import eval\n",
    "# reload(cube_sim)\n",
    "# reload(agent)\n",
    "import itertools\n",
    "import numpy as np\n",
    "import pandas as pd\n",
    "from pathlib import Path\n",
    "import os\n",
    "import pickle\n",
    "import json\n",
    "import matplotlib.pyplot as plt\n",
    "import seaborn as sns\n",
    "%matplotlib widget"
   ]
  },
  {
   "cell_type": "code",
   "execution_count": 2,
   "metadata": {},
   "outputs": [],
   "source": [
    "a = agent.ApproximateQAgent()"
   ]
  },
  {
   "cell_type": "code",
   "execution_count": 20,
   "metadata": {},
   "outputs": [
    {
     "name": "stdout",
     "output_type": "stream",
     "text": [
      "Loading agent from output\n"
     ]
    }
   ],
   "source": [
    "a = a.load(fname='12_05_v1.1_episode_4000',inpath=Path('./output'))"
   ]
  },
  {
   "cell_type": "code",
   "execution_count": 4,
   "metadata": {},
   "outputs": [
    {
     "data": {
      "text/plain": [
       "{'b': 15.93480349980175,\n",
       " 'one_color_face': 31.770351443088096,\n",
       " 'two_color_face': 16.564541155466934,\n",
       " 'three_color_face': 32.98568029029012,\n",
       " 'four_color_face': 14.088248109958462,\n",
       " 'front_top': -10.652584711552745,\n",
       " 'front_bottom': -10.566243331083879,\n",
       " 'front_left': -5.593810156332125,\n",
       " 'front_right': -11.152364020068356,\n",
       " 'front_back': -9.603485127186138,\n",
       " 'top_bottom': -18.49149417584755,\n",
       " 'top_left': -8.364993492353275,\n",
       " 'top_right': -14.1720562569074,\n",
       " 'top_back': -8.914783569355345,\n",
       " 'bottom_left': -10.737972241922922,\n",
       " 'bottom_right': -14.597841523094774,\n",
       " 'bottom_back': -8.573699047158522,\n",
       " 'left_right': -11.274047478364361,\n",
       " 'left_back': -7.806132554801266,\n",
       " 'right_back': -6.966822551336041,\n",
       " 'full_layers': 45.69084690288183}"
      ]
     },
     "execution_count": 4,
     "metadata": {},
     "output_type": "execute_result"
    }
   ],
   "source": [
    "a.weights"
   ]
  },
  {
   "cell_type": "code",
   "execution_count": 5,
   "metadata": {},
   "outputs": [],
   "source": [
    "epdf = pd.DataFrame.from_dict(a.metadata,orient='index')"
   ]
  },
  {
   "cell_type": "code",
   "execution_count": 8,
   "metadata": {},
   "outputs": [
    {
     "data": {
      "text/html": [
       "<div>\n",
       "<style scoped>\n",
       "    .dataframe tbody tr th:only-of-type {\n",
       "        vertical-align: middle;\n",
       "    }\n",
       "\n",
       "    .dataframe tbody tr th {\n",
       "        vertical-align: top;\n",
       "    }\n",
       "\n",
       "    .dataframe thead th {\n",
       "        text-align: right;\n",
       "    }\n",
       "</style>\n",
       "<table border=\"1\" class=\"dataframe\">\n",
       "  <thead>\n",
       "    <tr style=\"text-align: right;\">\n",
       "      <th></th>\n",
       "      <th>MovesToGoal</th>\n",
       "      <th>EpisodeRewards</th>\n",
       "      <th>Weights</th>\n",
       "      <th>TotalRunTime</th>\n",
       "      <th>EpisodeRunTime</th>\n",
       "      <th>EndEpsilon</th>\n",
       "    </tr>\n",
       "  </thead>\n",
       "  <tbody>\n",
       "    <tr>\n",
       "      <th>ep_3995</th>\n",
       "      <td>999</td>\n",
       "      <td>11161.0</td>\n",
       "      <td>{'b': 15.93480349980175, 'one_color_face': 31....</td>\n",
       "      <td>7680.935804</td>\n",
       "      <td>7.961296</td>\n",
       "      <td>0.1</td>\n",
       "    </tr>\n",
       "    <tr>\n",
       "      <th>ep_3996</th>\n",
       "      <td>999</td>\n",
       "      <td>14156.0</td>\n",
       "      <td>{'b': 15.93480349980175, 'one_color_face': 31....</td>\n",
       "      <td>7688.982757</td>\n",
       "      <td>8.046953</td>\n",
       "      <td>0.1</td>\n",
       "    </tr>\n",
       "    <tr>\n",
       "      <th>ep_3997</th>\n",
       "      <td>999</td>\n",
       "      <td>6761.0</td>\n",
       "      <td>{'b': 15.93480349980175, 'one_color_face': 31....</td>\n",
       "      <td>7696.937850</td>\n",
       "      <td>7.955094</td>\n",
       "      <td>0.1</td>\n",
       "    </tr>\n",
       "    <tr>\n",
       "      <th>ep_3998</th>\n",
       "      <td>999</td>\n",
       "      <td>8539.0</td>\n",
       "      <td>{'b': 15.93480349980175, 'one_color_face': 31....</td>\n",
       "      <td>7704.784997</td>\n",
       "      <td>7.847147</td>\n",
       "      <td>0.1</td>\n",
       "    </tr>\n",
       "    <tr>\n",
       "      <th>ep_3999</th>\n",
       "      <td>999</td>\n",
       "      <td>11570.0</td>\n",
       "      <td>{'b': 15.93480349980175, 'one_color_face': 31....</td>\n",
       "      <td>7712.758008</td>\n",
       "      <td>7.973011</td>\n",
       "      <td>0.1</td>\n",
       "    </tr>\n",
       "  </tbody>\n",
       "</table>\n",
       "</div>"
      ],
      "text/plain": [
       "         MovesToGoal  EpisodeRewards  \\\n",
       "ep_3995          999         11161.0   \n",
       "ep_3996          999         14156.0   \n",
       "ep_3997          999          6761.0   \n",
       "ep_3998          999          8539.0   \n",
       "ep_3999          999         11570.0   \n",
       "\n",
       "                                                   Weights  TotalRunTime  \\\n",
       "ep_3995  {'b': 15.93480349980175, 'one_color_face': 31....   7680.935804   \n",
       "ep_3996  {'b': 15.93480349980175, 'one_color_face': 31....   7688.982757   \n",
       "ep_3997  {'b': 15.93480349980175, 'one_color_face': 31....   7696.937850   \n",
       "ep_3998  {'b': 15.93480349980175, 'one_color_face': 31....   7704.784997   \n",
       "ep_3999  {'b': 15.93480349980175, 'one_color_face': 31....   7712.758008   \n",
       "\n",
       "         EpisodeRunTime  EndEpsilon  \n",
       "ep_3995        7.961296         0.1  \n",
       "ep_3996        8.046953         0.1  \n",
       "ep_3997        7.955094         0.1  \n",
       "ep_3998        7.847147         0.1  \n",
       "ep_3999        7.973011         0.1  "
      ]
     },
     "execution_count": 8,
     "metadata": {},
     "output_type": "execute_result"
    }
   ],
   "source": [
    "epdf.tail()"
   ]
  },
  {
   "cell_type": "code",
   "execution_count": 18,
   "metadata": {},
   "outputs": [
    {
     "data": {
      "application/vnd.jupyter.widget-view+json": {
       "model_id": "31d7de74f7a044099df53ecd100c339e",
       "version_major": 2,
       "version_minor": 0
      },
      "text/plain": [
       "Canvas(toolbar=Toolbar(toolitems=[('Home', 'Reset original view', 'home', 'home'), ('Back', 'Back to previous …"
      ]
     },
     "metadata": {},
     "output_type": "display_data"
    }
   ],
   "source": [
    "plt.close(\"all\")\n",
    "x = epdf.index\n",
    "\n",
    "rwdcolor = 'tab:blue'\n",
    "fig, ax = plt.subplots(figsize=(8,5))\n",
    "ax.plot(x,epdf[['EpisodeRewards']].rolling(100).mean(), color=rwdcolor,label='Rewards')\n",
    "ax.tick_params(axis='x',rotation=60)\n",
    "ax.tick_params(axis='y', labelcolor=rwdcolor)\n",
    "ax.set_xlim(left=80)\n",
    "# ax.set_xlabel('Episode')  # Add an x-label to the axes.\n",
    "ax.set_ylabel('Rewards', color=rwdcolor, fontsize=14)  # Add a y-label to the axes.\n",
    "ax.set_title(\"Rewards Per Episode (Rolling Mean of Previous 100 Episodes)\",fontsize=15)  # Add a title to the axes.\n",
    "xtick = list(epdf.index[249::250])\n",
    "xtick.append(epdf.index[-1])\n",
    "xlab = [f'Ep {i[3:]}' for i in xtick]\n",
    "ax.set_xticks([])\n",
    "ax.spines['right'].set_visible(False)\n",
    "ax.spines['top'].set_visible(False)\n",
    "\n",
    "ax2 = ax.twinx()  # instantiate a second axes that shares the same x-axis\n",
    "\n",
    "epscolor = 'red'\n",
    "ax2.set_ylabel('Epsilon Value', color=epscolor, fontsize=14)  # we already handled the x-label with ax1\n",
    "ax2.plot(x, epdf['EndEpsilon'], color=epscolor,label=\"Epsilon\",lw=1,ls='--')\n",
    "ax2.tick_params(axis='y', labelcolor=epscolor)\n",
    "ax.set_xticks(xtick)\n",
    "ax.set_xticklabels(xlab)\n",
    "# ax2.spines['right'].set_visible(False)\n",
    "ax2.spines['top'].set_visible(False)\n",
    "\n",
    "solved = epdf[['EpisodeRewards']].rolling(100).mean()[epdf.MovesToGoal < 999]\n",
    "\n",
    "ax.plot(solved, color='tab:blue',label=\"Solved\",ls='',marker='o',markerfacecolor='white',ms=5)\n",
    "\n",
    "fig.legend(loc=(.75,.375))\n",
    "\n",
    "plt.tight_layout()"
   ]
  },
  {
   "cell_type": "markdown",
   "metadata": {},
   "source": [
    "# Plot solved comparison"
   ]
  },
  {
   "cell_type": "code",
   "execution_count": 76,
   "metadata": {},
   "outputs": [
    {
     "name": "stdout",
     "output_type": "stream",
     "text": [
      "Loading eval from output\n",
      "Loading eval from output\n",
      "Loading eval from output\n",
      "Loading eval from output\n",
      "Loading eval from output\n",
      "Loading eval from output\n"
     ]
    }
   ],
   "source": [
    "e_trained_100 = agent.evaluator(a).load(fname='trained_100_iter_5000',inpath=Path('./output'))\n",
    "e_rand_100 = agent.evaluator(a).load(fname='random_100_iter_5000',inpath=Path('./output'))\n",
    "\n",
    "e_trained_1000 = agent.evaluator(a).load(fname='trained_iter_1000',inpath=Path('./output'))\n",
    "e_rand_1000 = agent.evaluator(a).load(fname='random_iter999',inpath=Path('./output'))\n",
    "\n",
    "e_trained_10000 = agent.evaluator(a).load(fname='trained_10000_iter_300',inpath=Path('./output'))\n",
    "e_rand_10000 = agent.evaluator(a).load(fname='random_10000_iter_300',inpath=Path('./output'))"
   ]
  },
  {
   "cell_type": "code",
   "execution_count": 77,
   "metadata": {},
   "outputs": [],
   "source": [
    "dft100 = pd.DataFrame.from_dict(e_trained_100.eval_data,orient='index')\n",
    "dfr100 = pd.DataFrame.from_dict(e_rand_100.eval_data,orient='index')\n",
    "\n",
    "dft1000 = pd.DataFrame.from_dict(e_trained_1000.eval_data,orient='index')\n",
    "dfr1000 = pd.DataFrame.from_dict(e_rand_1000.eval_data,orient='index')\n",
    "\n",
    "dft10000 = pd.DataFrame.from_dict(e_trained_10000.eval_data,orient='index')\n",
    "dfr10000 = pd.DataFrame.from_dict(e_rand_10000.eval_data,orient='index')"
   ]
  },
  {
   "cell_type": "code",
   "execution_count": 78,
   "metadata": {},
   "outputs": [],
   "source": [
    "t100solved = dft100.Solved.sum() / dft100.Solved.shape[0]\n",
    "r100solved = dfr100.Solved.sum() / dfr100.Solved.shape[0]\n",
    "\n",
    "t1000solved = dft1000.Solved.sum() / dft1000.Solved.shape[0]\n",
    "r1000solved = dfr1000.Solved.sum() / dfr1000.Solved.shape[0]\n",
    "\n",
    "t10000solved = dft10000.Solved.sum() / dft10000.Solved.shape[0]\n",
    "r10000solved = dfr10000.Solved.sum() / dfr10000.Solved.shape[0]"
   ]
  },
  {
   "cell_type": "code",
   "execution_count": 79,
   "metadata": {},
   "outputs": [
    {
     "data": {
      "application/vnd.jupyter.widget-view+json": {
       "model_id": "dbaa6e68dac94fc59b925ea190a94674",
       "version_major": 2,
       "version_minor": 0
      },
      "text/plain": [
       "Canvas(toolbar=Toolbar(toolitems=[('Home', 'Reset original view', 'home', 'home'), ('Back', 'Back to previous …"
      ]
     },
     "metadata": {},
     "output_type": "display_data"
    },
    {
     "data": {
      "text/plain": [
       "<matplotlib.legend.Legend at 0x295687bef40>"
      ]
     },
     "execution_count": 79,
     "metadata": {},
     "output_type": "execute_result"
    }
   ],
   "source": [
    "plt.close(\"all\")\n",
    "\n",
    "labels = ['100 Max','1000 Max', '10000 Max']\n",
    "t = [t100solved,t1000solved,t10000solved]\n",
    "r = [r100solved,r1000solved,r1000solved]\n",
    "\n",
    "x = np.arange(len(labels))  # the label locations\n",
    "width = 0.35  # the width of the bars\n",
    "\n",
    "fig, ax = plt.subplots()\n",
    "rects1 = ax.bar(x - width/2, t, width, label='Trained Agent')\n",
    "rects2 = ax.bar(x + width/2, r, width, label='Random Shuffler')\n",
    "\n",
    "# Add some text for labels, title and custom x-axis tick labels, etc.\n",
    "ax.set_xlabel('Max Moves per Iteration')\n",
    "ax.set_ylabel('Proportion Solved')\n",
    "ax.set_title('Proportion of Iterations Solved')\n",
    "ax.set_xticks(x)\n",
    "ax.set_xticklabels(labels)\n",
    "ax.legend()"
   ]
  },
  {
   "cell_type": "code",
   "execution_count": null,
   "metadata": {},
   "outputs": [],
   "source": []
  }
 ],
 "metadata": {
  "kernelspec": {
   "display_name": "Python 3",
   "language": "python",
   "name": "python3"
  },
  "language_info": {
   "codemirror_mode": {
    "name": "ipython",
    "version": 3
   },
   "file_extension": ".py",
   "mimetype": "text/x-python",
   "name": "python",
   "nbconvert_exporter": "python",
   "pygments_lexer": "ipython3",
   "version": "3.9.0"
  }
 },
 "nbformat": 4,
 "nbformat_minor": 2
}
