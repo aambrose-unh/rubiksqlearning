{
 "metadata": {
  "language_info": {
   "codemirror_mode": {
    "name": "ipython",
    "version": 3
   },
   "file_extension": ".py",
   "mimetype": "text/x-python",
   "name": "python",
   "nbconvert_exporter": "python",
   "pygments_lexer": "ipython3",
   "version": "3.9.0-final"
  },
  "orig_nbformat": 2,
  "kernelspec": {
   "name": "python3",
   "display_name": "Python 3.9.0 64-bit ('rubiks_cube': pipenv)",
   "metadata": {
    "interpreter": {
     "hash": "b727c74907aae9cec69ad5d3e3c2546a31ed33c1738a27a68eb3cc4b75500ea1"
    }
   }
  }
 },
 "nbformat": 4,
 "nbformat_minor": 2,
 "cells": [
  {
   "cell_type": "code",
   "execution_count": 2,
   "metadata": {},
   "outputs": [],
   "source": [
    "import numpy as np\n",
    "from importlib import reload \n",
    "import cube_sim\n",
    "reload(cube_sim)\n",
    "from cube_sim import *\n",
    "import itertools"
   ]
  },
  {
   "cell_type": "code",
   "execution_count": 188,
   "metadata": {},
   "outputs": [
    {
     "output_type": "stream",
     "name": "stdout",
     "text": [
      "\n\n[' ' ' '] ['w' 'w'] [' ' ' '] [' ' ' '] \n[' ' ' '] ['w' 'w'] [' ' ' '] [' ' ' '] \n\n['r' 'r'] ['b' 'b'] ['o' 'o'] ['g' 'g'] \n['r' 'r'] ['b' 'b'] ['o' 'o'] ['g' 'g'] \n\n[' ' ' '] ['y' 'y'] [' ' ' '] [' ' ' '] \n[' ' ' '] ['y' 'y'] [' ' ' '] [' ' ' '] "
     ]
    }
   ],
   "source": [
    "c = cube()\n",
    "c.showCube()"
   ]
  },
  {
   "cell_type": "code",
   "execution_count": 189,
   "metadata": {},
   "outputs": [],
   "source": [
    "# print(c.get_features())"
   ]
  },
  {
   "cell_type": "code",
   "execution_count": 195,
   "metadata": {},
   "outputs": [
    {
     "output_type": "stream",
     "name": "stdout",
     "text": [
      "\n\n[' ' ' '] ['b' 'w'] [' ' ' '] [' ' ' '] \n[' ' ' '] ['r' 'r'] [' ' ' '] [' ' ' '] \n\n['b' 'w'] ['g' 'y'] ['o' 'o'] ['g' 'b'] \n['y' 'r'] ['y' 'b'] ['w' 'o'] ['g' 'w'] \n\n[' ' ' '] ['g' 'o'] [' ' ' '] [' ' ' '] \n[' ' ' '] ['r' 'y'] [' ' ' '] [' ' ' '] "
     ]
    }
   ],
   "source": [
    "c.randomize()\n",
    "c.showCube()"
   ]
  },
  {
   "cell_type": "code",
   "execution_count": 196,
   "metadata": {},
   "outputs": [],
   "source": [
    "# print(c.get_features())"
   ]
  },
  {
   "cell_type": "code",
   "execution_count": 197,
   "metadata": {},
   "outputs": [
    {
     "output_type": "stream",
     "name": "stdout",
     "text": [
      "\n\n[' ' ' '] ['r' 'b'] [' ' ' '] [' ' ' '] \n[' ' ' '] ['r' 'w'] [' ' ' '] [' ' ' '] \n\n['g' 'b'] ['b' 'w'] ['g' 'y'] ['o' 'o'] \n['y' 'r'] ['y' 'b'] ['w' 'o'] ['g' 'w'] \n\n[' ' ' '] ['g' 'o'] [' ' ' '] [' ' ' '] \n[' ' ' '] ['r' 'y'] [' ' ' '] [' ' ' '] "
     ]
    }
   ],
   "source": [
    "c.toRight()\n",
    "c.showCube()"
   ]
  },
  {
   "cell_type": "code",
   "execution_count": 198,
   "metadata": {},
   "outputs": [
    {
     "output_type": "stream",
     "name": "stdout",
     "text": [
      "\n\n[' ' ' '] ['b' 'w'] [' ' ' '] [' ' ' '] \n[' ' ' '] ['r' 'r'] [' ' ' '] [' ' ' '] \n\n['b' 'w'] ['g' 'y'] ['o' 'o'] ['g' 'b'] \n['y' 'r'] ['y' 'b'] ['w' 'o'] ['g' 'w'] \n\n[' ' ' '] ['g' 'o'] [' ' ' '] [' ' ' '] \n[' ' ' '] ['r' 'y'] [' ' ' '] [' ' ' '] "
     ]
    }
   ],
   "source": [
    "c.toLeft()\n",
    "c.showCube()"
   ]
  },
  {
   "cell_type": "code",
   "execution_count": 5,
   "metadata": {},
   "outputs": [
    {
     "output_type": "stream",
     "name": "stdout",
     "text": [
      "\n\n[' ' ' '] ['w' 'w'] [' ' ' '] [' ' ' '] \n[' ' ' '] ['r' 'r'] [' ' ' '] [' ' ' '] \n\n['r' 'y'] ['b' 'b'] ['w' 'o'] ['g' 'g'] \n['r' 'y'] ['b' 'b'] ['w' 'o'] ['g' 'g'] \n\n[' ' ' '] ['o' 'o'] [' ' ' '] [' ' ' '] \n[' ' ' '] ['y' 'y'] [' ' ' '] [' ' ' '] "
     ]
    }
   ],
   "source": [
    "c.clockwise()\n",
    "c.showCube()"
   ]
  },
  {
   "cell_type": "code",
   "execution_count": 145,
   "metadata": {},
   "outputs": [
    {
     "output_type": "stream",
     "name": "stdout",
     "text": [
      "\n\n[' ' ' '] ['r' 'w'] [' ' ' '] [' ' ' '] \n[' ' ' '] ['o' 'r'] [' ' ' '] [' ' ' '] \n\n['o' 'r'] ['y' 'g'] ['g' 'o'] ['g' 'b'] \n['b' 'w'] ['r' 'b'] ['w' 'o'] ['g' 'b'] \n\n[' ' ' '] ['w' 'y'] [' ' ' '] [' ' ' '] \n[' ' ' '] ['y' 'y'] [' ' ' '] [' ' ' '] "
     ]
    }
   ],
   "source": [
    "c.counterclockwise()\n",
    "c.showCube()"
   ]
  },
  {
   "cell_type": "code",
   "execution_count": 147,
   "metadata": {},
   "outputs": [
    {
     "output_type": "stream",
     "name": "stdout",
     "text": [
      "\n\n[' ' ' '] ['w' 'w'] [' ' ' '] [' ' ' '] \n[' ' ' '] ['y' 'r'] [' ' ' '] [' ' ' '] \n\n['w' 'b'] ['b' 'g'] ['g' 'o'] ['g' 'y'] \n['r' 'o'] ['b' 'b'] ['w' 'o'] ['g' 'r'] \n\n[' ' ' '] ['r' 'y'] [' ' ' '] [' ' ' '] \n[' ' ' '] ['o' 'y'] [' ' ' '] [' ' ' '] "
     ]
    }
   ],
   "source": [
    "c.forward()\n",
    "c.showCube()"
   ]
  },
  {
   "cell_type": "code",
   "execution_count": 245,
   "metadata": {},
   "outputs": [
    {
     "output_type": "stream",
     "name": "stdout",
     "text": [
      "\n\n[' ' ' '] ['b' 'w'] [' ' ' '] [' ' ' '] \n[' ' ' '] ['b' 'o'] [' ' ' '] [' ' ' '] \n\n['r' 'r'] ['y' 'b'] ['y' 'o'] ['g' 'w'] \n['r' 'r'] ['y' 'b'] ['y' 'o'] ['g' 'w'] \n\n[' ' ' '] ['g' 'r'] [' ' ' '] [' ' ' '] \n[' ' ' '] ['g' 'y'] [' ' ' '] [' ' ' '] "
     ]
    }
   ],
   "source": [
    "c.backward()\n",
    "c.showCube()"
   ]
  },
  {
   "cell_type": "code",
   "execution_count": null,
   "metadata": {},
   "outputs": [],
   "source": []
  },
  {
   "cell_type": "code",
   "execution_count": null,
   "metadata": {},
   "outputs": [],
   "source": []
  },
  {
   "cell_type": "code",
   "execution_count": null,
   "metadata": {},
   "outputs": [],
   "source": []
  },
  {
   "cell_type": "code",
   "execution_count": null,
   "metadata": {},
   "outputs": [],
   "source": []
  },
  {
   "cell_type": "code",
   "execution_count": 27,
   "metadata": {},
   "outputs": [],
   "source": [
    "t[0,1] = np.array((2*['b'],2*['b']))"
   ]
  },
  {
   "cell_type": "code",
   "execution_count": 28,
   "metadata": {},
   "outputs": [
    {
     "output_type": "execute_result",
     "data": {
      "text/plain": [
       "array([[[['/', '/'],\n",
       "         ['/', '/']],\n",
       "\n",
       "        [['b', 'b'],\n",
       "         ['b', 'b']],\n",
       "\n",
       "        [['/', '/'],\n",
       "         ['/', '/']],\n",
       "\n",
       "        [['/', '/'],\n",
       "         ['/', '/']]],\n",
       "\n",
       "\n",
       "       [[['/', '/'],\n",
       "         ['/', '/']],\n",
       "\n",
       "        [['/', '/'],\n",
       "         ['/', '/']],\n",
       "\n",
       "        [['/', '/'],\n",
       "         ['/', '/']],\n",
       "\n",
       "        [['/', '/'],\n",
       "         ['/', '/']]],\n",
       "\n",
       "\n",
       "       [[['/', '/'],\n",
       "         ['/', '/']],\n",
       "\n",
       "        [['/', '/'],\n",
       "         ['/', '/']],\n",
       "\n",
       "        [['/', '/'],\n",
       "         ['/', '/']],\n",
       "\n",
       "        [['/', '/'],\n",
       "         ['/', '/']]]], dtype='<U1')"
      ]
     },
     "metadata": {},
     "execution_count": 28
    }
   ],
   "source": [
    "t"
   ]
  },
  {
   "cell_type": "code",
   "execution_count": 73,
   "metadata": {},
   "outputs": [],
   "source": [
    "def showCube(cube):\n",
    "    def printRow(row):\n",
    "        for i in row:\n",
    "            print(i[0,:],end=' ')\n",
    "        print('')\n",
    "        for i in row:\n",
    "            print(i[1,:],end=' ')\n",
    "    for row in range(len(cube)):\n",
    "        print(\"\\nRow\",row)\n",
    "        printRow(cube[row])\n",
    "\n",
    "    # print([block for block in cube[0]])\n",
    "    # print(cube[1])\n",
    "    # print(cube[2])"
   ]
  },
  {
   "cell_type": "code",
   "execution_count": 74,
   "metadata": {},
   "outputs": [
    {
     "output_type": "stream",
     "name": "stdout",
     "text": [
      "\nRow 0\n['/' '/'] ['b' 'b'] ['/' '/'] ['/' '/'] \n['/' '/'] ['b' 'b'] ['/' '/'] ['/' '/'] \nRow 1\n['/' '/'] ['/' '/'] ['/' '/'] ['/' '/'] \n['/' '/'] ['/' '/'] ['/' '/'] ['/' '/'] \nRow 2\n['/' '/'] ['/' '/'] ['/' '/'] ['/' '/'] \n['/' '/'] ['/' '/'] ['/' '/'] ['/' '/'] "
     ]
    }
   ],
   "source": [
    "showCube(t)"
   ]
  },
  {
   "cell_type": "code",
   "execution_count": null,
   "metadata": {},
   "outputs": [],
   "source": []
  },
  {
   "cell_type": "code",
   "execution_count": 5,
   "metadata": {},
   "outputs": [],
   "source": [
    "mylist = [1,2,3,4]\n",
    "t = list(itertools.combinations(mylist,r=2))"
   ]
  },
  {
   "cell_type": "code",
   "execution_count": 6,
   "metadata": {},
   "outputs": [
    {
     "output_type": "execute_result",
     "data": {
      "text/plain": [
       "[(1, 2), (1, 3), (1, 4), (2, 3), (2, 4), (3, 4)]"
      ]
     },
     "metadata": {},
     "execution_count": 6
    }
   ],
   "source": [
    "t"
   ]
  },
  {
   "cell_type": "code",
   "execution_count": 9,
   "metadata": {},
   "outputs": [
    {
     "output_type": "stream",
     "name": "stdout",
     "text": [
      "('1', '2')\n2\n('1', '3')\n3\n('1', '4')\n4\n('2', '3')\n6\n('2', '4')\n8\n('3', '4')\n12\n"
     ]
    }
   ],
   "source": [
    "mydict = {'1':1,'2':2,'3':3,'4':4}\n",
    "prods = {}\n",
    "for i in itertools.combinations(mydict,r=2):\n",
    "    print(i)\n",
    "    print(mydict[i[0]]*mydict[i[1]])\n",
    "    prods[i[0]+'_'+i[1]] = mydict[i[0]]*mydict[i[1]]"
   ]
  },
  {
   "cell_type": "code",
   "execution_count": 10,
   "metadata": {},
   "outputs": [
    {
     "output_type": "execute_result",
     "data": {
      "text/plain": [
       "{'1_2': 2, '1_3': 3, '1_4': 4, '2_3': 6, '2_4': 8, '3_4': 12}"
      ]
     },
     "metadata": {},
     "execution_count": 10
    }
   ],
   "source": [
    "prods"
   ]
  },
  {
   "cell_type": "code",
   "execution_count": null,
   "metadata": {},
   "outputs": [],
   "source": []
  }
 ]
}