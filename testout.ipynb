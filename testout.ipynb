{
 "metadata": {
  "language_info": {
   "codemirror_mode": {
    "name": "ipython",
    "version": 3
   },
   "file_extension": ".py",
   "mimetype": "text/x-python",
   "name": "python",
   "nbconvert_exporter": "python",
   "pygments_lexer": "ipython3",
   "version": "3.9.0-final"
  },
  "orig_nbformat": 2,
  "kernelspec": {
   "name": "python3",
   "display_name": "Python 3.9.0 64-bit ('rubiks_cube': pipenv)",
   "metadata": {
    "interpreter": {
     "hash": "b727c74907aae9cec69ad5d3e3c2546a31ed33c1738a27a68eb3cc4b75500ea1"
    }
   }
  }
 },
 "nbformat": 4,
 "nbformat_minor": 2,
 "cells": [
  {
   "cell_type": "code",
   "execution_count": 1,
   "metadata": {},
   "outputs": [],
   "source": [
    "import numpy as np\n",
    "from importlib import reload \n",
    "import cube_sim\n",
    "reload(cube_sim)\n",
    "from cube_sim import *\n",
    "import itertools"
   ]
  },
  {
   "cell_type": "code",
   "execution_count": 2,
   "metadata": {},
   "outputs": [
    {
     "output_type": "error",
     "ename": "NameError",
     "evalue": "name 'c' is not defined",
     "traceback": [
      "\u001b[1;31m---------------------------------------------------------------------------\u001b[0m",
      "\u001b[1;31mNameError\u001b[0m                                 Traceback (most recent call last)",
      "\u001b[1;32m<ipython-input-2-0279acf7c4d5>\u001b[0m in \u001b[0;36m<module>\u001b[1;34m\u001b[0m\n\u001b[1;32m----> 1\u001b[1;33m \u001b[0mnp\u001b[0m\u001b[1;33m.\u001b[0m\u001b[0mflip\u001b[0m\u001b[1;33m(\u001b[0m\u001b[0mc\u001b[0m\u001b[1;33m.\u001b[0m\u001b[0mleft\u001b[0m\u001b[1;33m[\u001b[0m\u001b[1;33m:\u001b[0m\u001b[1;33m,\u001b[0m\u001b[1;36m1\u001b[0m\u001b[1;33m]\u001b[0m\u001b[1;33m)\u001b[0m\u001b[1;33m\u001b[0m\u001b[1;33m\u001b[0m\u001b[0m\n\u001b[0m",
      "\u001b[1;31mNameError\u001b[0m: name 'c' is not defined"
     ]
    }
   ],
   "source": [
    "np.flip(c.left[:,1])"
   ]
  },
  {
   "cell_type": "code",
   "execution_count": 3,
   "metadata": {},
   "outputs": [
    {
     "output_type": "stream",
     "name": "stdout",
     "text": [
      "\n\n[' ' ' '] ['w' 'w'] [' ' ' '] [' ' ' '] \n[' ' ' '] ['w' 'w'] [' ' ' '] [' ' ' '] \n\n['r' 'r'] ['b' 'b'] ['o' 'o'] ['g' 'g'] \n['r' 'r'] ['b' 'b'] ['o' 'o'] ['g' 'g'] \n\n[' ' ' '] ['y' 'y'] [' ' ' '] [' ' ' '] \n[' ' ' '] ['y' 'y'] [' ' ' '] [' ' ' '] "
     ]
    }
   ],
   "source": [
    "c = cube()\n",
    "c.showCube()"
   ]
  },
  {
   "cell_type": "code",
   "execution_count": 5,
   "metadata": {},
   "outputs": [
    {
     "output_type": "stream",
     "name": "stdout",
     "text": [
      "{'inv_avg_cpf': 0.1, 'one_color_faces': 0.1, 'front_top': 0.1, 'front_bottom': 0.1, 'front_left': 0.1, 'front_right': 0.1, 'front_back': 0.1, 'top_bottom': 0.1, 'top_left': 0.1, 'top_right': 0.1, 'top_back': 0.1, 'bottom_left': 0.1, 'bottom_right': 0.1, 'bottom_back': 0.1, 'left_right': 0.1, 'left_back': 0.1, 'right_back': 0.1}\n"
     ]
    }
   ],
   "source": [
    "t = c.get_features()\n",
    "for i in t:\n",
    "    t[i] = .1\n",
    "print(t)\n",
    "# # print(c.get_features())"
   ]
  },
  {
   "cell_type": "code",
   "execution_count": 62,
   "metadata": {},
   "outputs": [],
   "source": [
    "# np.unique([c.front[0,0],c.left[0,1],c.top[1,0]])"
   ]
  },
  {
   "cell_type": "code",
   "execution_count": 85,
   "metadata": {},
   "outputs": [
    {
     "output_type": "stream",
     "name": "stdout",
     "text": [
      "\n\n[' ' ' '] ['w' 'o'] [' ' ' '] [' ' ' '] \n[' ' ' '] ['g' 'w'] [' ' ' '] [' ' ' '] \n\n['r' 'o'] ['b' 'r'] ['y' 'o'] ['r' 'g'] \n['g' 'y'] ['b' 'r'] ['y' 'o'] ['g' 'b'] \n\n[' ' ' '] ['w' 'w'] [' ' ' '] [' ' ' '] \n[' ' ' '] ['b' 'y'] [' ' ' '] [' ' ' '] "
     ]
    }
   ],
   "source": [
    "c.randomize()\n",
    "c.showCube()"
   ]
  },
  {
   "cell_type": "code",
   "execution_count": 89,
   "metadata": {},
   "outputs": [
    {
     "output_type": "stream",
     "name": "stdout",
     "text": [
      "['w' 'b']\n['b' 'b']\n"
     ]
    }
   ],
   "source": [
    "print(c.bottom[:,0])\n",
    "print(c.front[:,0])"
   ]
  },
  {
   "cell_type": "code",
   "execution_count": 52,
   "metadata": {},
   "outputs": [],
   "source": [
    "# print(c.get_features())"
   ]
  },
  {
   "cell_type": "code",
   "execution_count": 64,
   "metadata": {},
   "outputs": [
    {
     "output_type": "stream",
     "name": "stdout",
     "text": [
      "\n\n[' ' ' '] ['y' 'o'] [' ' ' '] [' ' ' '] \n[' ' ' '] ['r' 'o'] [' ' ' '] [' ' ' '] \n\n['r' 'b'] ['g' 'b'] ['w' 'g'] ['w' 'w'] \n['g' 'o'] ['b' 'y'] ['y' 'o'] ['g' 'r'] \n\n[' ' ' '] ['b' 'r'] [' ' ' '] [' ' ' '] \n[' ' ' '] ['w' 'y'] [' ' ' '] [' ' ' '] "
     ]
    }
   ],
   "source": [
    "c.toRight()\n",
    "c.showCube()"
   ]
  },
  {
   "cell_type": "code",
   "execution_count": 65,
   "metadata": {},
   "outputs": [
    {
     "output_type": "stream",
     "name": "stdout",
     "text": [
      "\n\n[' ' ' '] ['r' 'y'] [' ' ' '] [' ' ' '] \n[' ' ' '] ['o' 'o'] [' ' ' '] [' ' ' '] \n\n['g' 'b'] ['w' 'g'] ['w' 'w'] ['r' 'b'] \n['g' 'o'] ['b' 'y'] ['y' 'o'] ['g' 'r'] \n\n[' ' ' '] ['b' 'r'] [' ' ' '] [' ' ' '] \n[' ' ' '] ['w' 'y'] [' ' ' '] [' ' ' '] "
     ]
    }
   ],
   "source": [
    "c.toLeft()\n",
    "c.showCube()"
   ]
  },
  {
   "cell_type": "code",
   "execution_count": 66,
   "metadata": {},
   "outputs": [
    {
     "output_type": "stream",
     "name": "stdout",
     "text": [
      "\n\n[' ' ' '] ['r' 'y'] [' ' ' '] [' ' ' '] \n[' ' ' '] ['b' 'o'] [' ' ' '] [' ' ' '] \n\n['g' 'b'] ['b' 'w'] ['o' 'w'] ['r' 'b'] \n['g' 'r'] ['y' 'g'] ['o' 'o'] ['g' 'r'] \n\n[' ' ' '] ['w' 'y'] [' ' ' '] [' ' ' '] \n[' ' ' '] ['w' 'y'] [' ' ' '] [' ' ' '] "
     ]
    }
   ],
   "source": [
    "c.clockwise()\n",
    "c.showCube()"
   ]
  },
  {
   "cell_type": "code",
   "execution_count": 145,
   "metadata": {},
   "outputs": [
    {
     "output_type": "stream",
     "name": "stdout",
     "text": [
      "\n\n[' ' ' '] ['r' 'w'] [' ' ' '] [' ' ' '] \n[' ' ' '] ['o' 'r'] [' ' ' '] [' ' ' '] \n\n['o' 'r'] ['y' 'g'] ['g' 'o'] ['g' 'b'] \n['b' 'w'] ['r' 'b'] ['w' 'o'] ['g' 'b'] \n\n[' ' ' '] ['w' 'y'] [' ' ' '] [' ' ' '] \n[' ' ' '] ['y' 'y'] [' ' ' '] [' ' ' '] "
     ]
    }
   ],
   "source": [
    "c.counterclockwise()\n",
    "c.showCube()"
   ]
  },
  {
   "cell_type": "code",
   "execution_count": 147,
   "metadata": {},
   "outputs": [
    {
     "output_type": "stream",
     "name": "stdout",
     "text": [
      "\n\n[' ' ' '] ['w' 'w'] [' ' ' '] [' ' ' '] \n[' ' ' '] ['y' 'r'] [' ' ' '] [' ' ' '] \n\n['w' 'b'] ['b' 'g'] ['g' 'o'] ['g' 'y'] \n['r' 'o'] ['b' 'b'] ['w' 'o'] ['g' 'r'] \n\n[' ' ' '] ['r' 'y'] [' ' ' '] [' ' ' '] \n[' ' ' '] ['o' 'y'] [' ' ' '] [' ' ' '] "
     ]
    }
   ],
   "source": [
    "c.forward()\n",
    "c.showCube()"
   ]
  },
  {
   "cell_type": "code",
   "execution_count": 245,
   "metadata": {},
   "outputs": [
    {
     "output_type": "stream",
     "name": "stdout",
     "text": [
      "\n\n[' ' ' '] ['b' 'w'] [' ' ' '] [' ' ' '] \n[' ' ' '] ['b' 'o'] [' ' ' '] [' ' ' '] \n\n['r' 'r'] ['y' 'b'] ['y' 'o'] ['g' 'w'] \n['r' 'r'] ['y' 'b'] ['y' 'o'] ['g' 'w'] \n\n[' ' ' '] ['g' 'r'] [' ' ' '] [' ' ' '] \n[' ' ' '] ['g' 'y'] [' ' ' '] [' ' ' '] "
     ]
    }
   ],
   "source": [
    "c.backward()\n",
    "c.showCube()"
   ]
  },
  {
   "cell_type": "code",
   "execution_count": null,
   "metadata": {},
   "outputs": [],
   "source": []
  },
  {
   "cell_type": "code",
   "execution_count": null,
   "metadata": {},
   "outputs": [],
   "source": []
  },
  {
   "cell_type": "code",
   "execution_count": null,
   "metadata": {},
   "outputs": [],
   "source": []
  },
  {
   "cell_type": "code",
   "execution_count": null,
   "metadata": {},
   "outputs": [],
   "source": []
  },
  {
   "cell_type": "code",
   "execution_count": 27,
   "metadata": {},
   "outputs": [],
   "source": [
    "t[0,1] = np.array((2*['b'],2*['b']))"
   ]
  },
  {
   "cell_type": "code",
   "execution_count": 28,
   "metadata": {},
   "outputs": [
    {
     "output_type": "execute_result",
     "data": {
      "text/plain": [
       "array([[[['/', '/'],\n",
       "         ['/', '/']],\n",
       "\n",
       "        [['b', 'b'],\n",
       "         ['b', 'b']],\n",
       "\n",
       "        [['/', '/'],\n",
       "         ['/', '/']],\n",
       "\n",
       "        [['/', '/'],\n",
       "         ['/', '/']]],\n",
       "\n",
       "\n",
       "       [[['/', '/'],\n",
       "         ['/', '/']],\n",
       "\n",
       "        [['/', '/'],\n",
       "         ['/', '/']],\n",
       "\n",
       "        [['/', '/'],\n",
       "         ['/', '/']],\n",
       "\n",
       "        [['/', '/'],\n",
       "         ['/', '/']]],\n",
       "\n",
       "\n",
       "       [[['/', '/'],\n",
       "         ['/', '/']],\n",
       "\n",
       "        [['/', '/'],\n",
       "         ['/', '/']],\n",
       "\n",
       "        [['/', '/'],\n",
       "         ['/', '/']],\n",
       "\n",
       "        [['/', '/'],\n",
       "         ['/', '/']]]], dtype='<U1')"
      ]
     },
     "metadata": {},
     "execution_count": 28
    }
   ],
   "source": [
    "t"
   ]
  },
  {
   "cell_type": "code",
   "execution_count": 73,
   "metadata": {},
   "outputs": [],
   "source": [
    "def showCube(cube):\n",
    "    def printRow(row):\n",
    "        for i in row:\n",
    "            print(i[0,:],end=' ')\n",
    "        print('')\n",
    "        for i in row:\n",
    "            print(i[1,:],end=' ')\n",
    "    for row in range(len(cube)):\n",
    "        print(\"\\nRow\",row)\n",
    "        printRow(cube[row])\n",
    "\n",
    "    # print([block for block in cube[0]])\n",
    "    # print(cube[1])\n",
    "    # print(cube[2])"
   ]
  },
  {
   "cell_type": "code",
   "execution_count": 74,
   "metadata": {},
   "outputs": [
    {
     "output_type": "stream",
     "name": "stdout",
     "text": [
      "\nRow 0\n['/' '/'] ['b' 'b'] ['/' '/'] ['/' '/'] \n['/' '/'] ['b' 'b'] ['/' '/'] ['/' '/'] \nRow 1\n['/' '/'] ['/' '/'] ['/' '/'] ['/' '/'] \n['/' '/'] ['/' '/'] ['/' '/'] ['/' '/'] \nRow 2\n['/' '/'] ['/' '/'] ['/' '/'] ['/' '/'] \n['/' '/'] ['/' '/'] ['/' '/'] ['/' '/'] "
     ]
    }
   ],
   "source": [
    "showCube(t)"
   ]
  },
  {
   "cell_type": "code",
   "execution_count": null,
   "metadata": {},
   "outputs": [],
   "source": []
  },
  {
   "cell_type": "code",
   "execution_count": 5,
   "metadata": {},
   "outputs": [],
   "source": [
    "mylist = [1,2,3,4]\n",
    "t = list(itertools.combinations(mylist,r=2))"
   ]
  },
  {
   "cell_type": "code",
   "execution_count": 6,
   "metadata": {},
   "outputs": [
    {
     "output_type": "execute_result",
     "data": {
      "text/plain": [
       "[(1, 2), (1, 3), (1, 4), (2, 3), (2, 4), (3, 4)]"
      ]
     },
     "metadata": {},
     "execution_count": 6
    }
   ],
   "source": [
    "t"
   ]
  },
  {
   "cell_type": "code",
   "execution_count": 9,
   "metadata": {},
   "outputs": [
    {
     "output_type": "stream",
     "name": "stdout",
     "text": [
      "('1', '2')\n2\n('1', '3')\n3\n('1', '4')\n4\n('2', '3')\n6\n('2', '4')\n8\n('3', '4')\n12\n"
     ]
    }
   ],
   "source": [
    "mydict = {'1':1,'2':2,'3':3,'4':4}\n",
    "prods = {}\n",
    "for i in itertools.combinations(mydict,r=2):\n",
    "    print(i)\n",
    "    print(mydict[i[0]]*mydict[i[1]])\n",
    "    prods[i[0]+'_'+i[1]] = mydict[i[0]]*mydict[i[1]]"
   ]
  },
  {
   "cell_type": "code",
   "execution_count": 10,
   "metadata": {},
   "outputs": [
    {
     "output_type": "execute_result",
     "data": {
      "text/plain": [
       "{'1_2': 2, '1_3': 3, '1_4': 4, '2_3': 6, '2_4': 8, '3_4': 12}"
      ]
     },
     "metadata": {},
     "execution_count": 10
    }
   ],
   "source": [
    "prods"
   ]
  },
  {
   "cell_type": "code",
   "execution_count": 93,
   "metadata": {},
   "outputs": [],
   "source": [
    "mydict['1'] += 1"
   ]
  },
  {
   "cell_type": "code",
   "execution_count": 109,
   "metadata": {},
   "outputs": [],
   "source": [
    "ta = c\n",
    "a = cube.clockwise\n",
    "a2 = cube.forward"
   ]
  },
  {
   "cell_type": "code",
   "execution_count": 110,
   "metadata": {},
   "outputs": [],
   "source": [
    "# mydict[tuple((np.array([1,2]),cube.clockwise))] = 55\n",
    "mydict[(ta,a)] = 55"
   ]
  },
  {
   "cell_type": "code",
   "execution_count": 111,
   "metadata": {},
   "outputs": [
    {
     "output_type": "stream",
     "name": "stdout",
     "text": [
      "Nope\n"
     ]
    }
   ],
   "source": [
    "if (ta,a2) in mydict:\n",
    "    print('Here')\n",
    "else:\n",
    "    print('Nope')"
   ]
  },
  {
   "cell_type": "code",
   "execution_count": null,
   "metadata": {},
   "outputs": [],
   "source": []
  }
 ]
}