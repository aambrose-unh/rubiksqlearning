{
 "metadata": {
  "language_info": {
   "codemirror_mode": {
    "name": "ipython",
    "version": 3
   },
   "file_extension": ".py",
   "mimetype": "text/x-python",
   "name": "python",
   "nbconvert_exporter": "python",
   "pygments_lexer": "ipython3",
   "version": "3.9.0-final"
  },
  "orig_nbformat": 2,
  "kernelspec": {
   "name": "python3",
   "display_name": "Python 3"
  }
 },
 "nbformat": 4,
 "nbformat_minor": 2,
 "cells": [
  {
   "cell_type": "code",
   "execution_count": 1,
   "metadata": {},
   "outputs": [],
   "source": [
    "import agent\n",
    "from importlib import reload \n",
    "import cube_sim\n",
    "# reload(cube_sim)\n",
    "# reload(agent)\n",
    "import itertools\n",
    "import numpy as np\n",
    "from pathlib import Path\n",
    "import os\n",
    "import pickle\n",
    "import json"
   ]
  },
  {
   "cell_type": "code",
   "execution_count": 2,
   "metadata": {},
   "outputs": [],
   "source": [
    "a = agent.ApproximateQAgent(numTraining=100, epsilon=.9, alpha=0.01, gamma=.75, e_decay=.000001)"
   ]
  },
  {
   "cell_type": "code",
   "execution_count": 3,
   "metadata": {
    "tags": []
   },
   "outputs": [
    {
     "output_type": "stream",
     "name": "stdout",
     "text": [
      "On Training Session: 0\n",
      "\n",
      "Training Session 0\n",
      "Training Move: 0\n",
      "Training Running Time:  0.002992391586303711\n",
      "Total Running Time:  0.004034519195556641\n",
      "\n",
      "\n",
      "[' ' ' '] ['g' 'w'] [' ' ' '] [' ' ' '] \n",
      "[' ' ' '] ['w' 'r'] [' ' ' '] [' ' ' '] \n",
      "\n",
      "['w' 'b'] ['o' 'y'] ['b' 'r'] ['b' 'r'] \n",
      "['y' 'r'] ['y' 'o'] ['w' 'o'] ['g' 'o'] \n",
      "\n",
      "[' ' ' '] ['g' 'g'] [' ' ' '] [' ' ' '] \n",
      "[' ' ' '] ['b' 'y'] [' ' ' '] [' ' ' '] \n",
      "Reward: -0.100\n",
      "Weights: {'p_6_cw': 0.1, 'p_6_ccw': 0.1, 'p_6_f': 0.1, 'p_6_b': 0.1, 'p_6_l': 0.1, 'p_6_r': 0.1, 'p_5_cw': 0.1, 'p_5_ccw': 0.1, 'p_5_f': 0.1, 'p_5_b': 0.1, 'p_5_l': 0.1, 'p_5_r': 0.1, 'p_4_cw': 0.1, 'p_4_ccw': 0.1, 'p_4_f': 0.1, 'p_4_b': 0.1, 'p_4_l': 0.1, 'p_4_r': 0.1, 'p_3_cw': 0.1, 'p_3_ccw': 0.1, 'p_3_f': 0.1, 'p_3_b': 0.1, 'p_3_l': 0.1, 'p_3_r': 0.1, 'p_2_cw': 0.1, 'p_2_ccw': 0.1, 'p_2_f': 0.1, 'p_2_b': 0.1, 'p_2_l': 0.1, 'p_2_r': 0.1, 'p_1_cw': 0.1, 'p_1_ccw': 0.1, 'p_1_f': 0.1, 'p_1_b': 0.1, 'p_1_l': 0.1, 'p_1_r': 0.1}\n",
      "Espilon: 0.900\n",
      "\n",
      "Training Session 0\n",
      "Training Move: 10000\n",
      "Training Running Time:  11.723686695098877\n",
      "Total Running Time:  11.723686695098877\n",
      "\n",
      "\n",
      "[' ' ' '] ['w' 'y'] [' ' ' '] [' ' ' '] \n",
      "[' ' ' '] ['y' 'r'] [' ' ' '] [' ' ' '] \n",
      "\n",
      "['b' 'o'] ['b' 'y'] ['b' 'r'] ['g' 'r'] \n",
      "['w' 'g'] ['o' 'g'] ['w' 'o'] ['g' 'b'] \n",
      "\n",
      "[' ' ' '] ['w' 'r'] [' ' ' '] [' ' ' '] \n",
      "[' ' ' '] ['o' 'y'] [' ' ' '] [' ' ' '] \n",
      "Reward: 0.173\n",
      "Weights: {'p_6_cw': 0.1, 'p_6_ccw': 0.1, 'p_6_f': 0.1, 'p_6_b': 0.1, 'p_6_l': 0.1, 'p_6_r': 0.1, 'p_5_cw': 0.1, 'p_5_ccw': 0.1, 'p_5_f': 0.1, 'p_5_b': 0.1, 'p_5_l': 0.1, 'p_5_r': 0.1, 'p_4_cw': 0.1, 'p_4_ccw': 0.1, 'p_4_f': 0.1, 'p_4_b': 0.1, 'p_4_l': 0.1, 'p_4_r': 0.1, 'p_3_cw': 0.1, 'p_3_ccw': 0.1, 'p_3_f': 0.1, 'p_3_b': 0.1, 'p_3_l': 0.1, 'p_3_r': 0.1, 'p_2_cw': 0.1, 'p_2_ccw': 0.1, 'p_2_f': 0.1, 'p_2_b': 0.1, 'p_2_l': 0.1, 'p_2_r': 0.1, 'p_1_cw': 0.1, 'p_1_ccw': 0.1, 'p_1_f': 0.1, 'p_1_b': 0.1, 'p_1_l': 0.1, 'p_1_r': 0.1}\n",
      "Espilon: 0.899\n",
      "\n",
      "Training Session 0\n",
      "Training Move: 20000\n",
      "Training Running Time:  23.470279932022095\n",
      "Total Running Time:  23.470279932022095\n",
      "\n",
      "\n",
      "[' ' ' '] ['o' 'w'] [' ' ' '] [' ' ' '] \n",
      "[' ' ' '] ['b' 'w'] [' ' ' '] [' ' ' '] \n",
      "\n",
      "['w' 'y'] ['o' 'b'] ['o' 'g'] ['r' 'g'] \n",
      "['w' 'y'] ['r' 'g'] ['r' 'o'] ['g' 'r'] \n",
      "\n",
      "[' ' ' '] ['b' 'y'] [' ' ' '] [' ' ' '] \n",
      "[' ' ' '] ['b' 'y'] [' ' ' '] [' ' ' '] \n",
      "Reward: 0.200\n",
      "Weights: {'p_6_cw': 0.1, 'p_6_ccw': 0.1, 'p_6_f': 0.1, 'p_6_b': 0.1, 'p_6_l': 0.1, 'p_6_r': 0.1, 'p_5_cw': 0.1, 'p_5_ccw': 0.1, 'p_5_f': 0.1, 'p_5_b': 0.1, 'p_5_l': 0.1, 'p_5_r': 0.1, 'p_4_cw': 0.1, 'p_4_ccw': 0.1, 'p_4_f': 0.1, 'p_4_b': 0.1, 'p_4_l': 0.1, 'p_4_r': 0.1, 'p_3_cw': 0.1, 'p_3_ccw': 0.1, 'p_3_f': 0.1, 'p_3_b': 0.1, 'p_3_l': 0.1, 'p_3_r': 0.1, 'p_2_cw': 0.1, 'p_2_ccw': 0.1, 'p_2_f': 0.1, 'p_2_b': 0.1, 'p_2_l': 0.1, 'p_2_r': 0.1, 'p_1_cw': 0.1, 'p_1_ccw': 0.1, 'p_1_f': 0.1, 'p_1_b': 0.1, 'p_1_l': 0.1, 'p_1_r': 0.1}\n",
      "Espilon: 0.898\n",
      "\n",
      "Training Session 0\n",
      "Training Move: 30000\n",
      "Training Running Time:  35.15049695968628\n",
      "Total Running Time:  35.15049695968628\n",
      "\n",
      "\n",
      "[' ' ' '] ['y' 'g'] [' ' ' '] [' ' ' '] \n",
      "[' ' ' '] ['w' 'o'] [' ' ' '] [' ' ' '] \n",
      "\n",
      "['g' 'b'] ['o' 'b'] ['y' 'r'] ['w' 'r'] \n",
      "['r' 'b'] ['y' 'o'] ['w' 'o'] ['g' 'b'] \n",
      "\n",
      "[' ' ' '] ['r' 'g'] [' ' ' '] [' ' ' '] \n",
      "[' ' ' '] ['w' 'y'] [' ' ' '] [' ' ' '] \n",
      "Reward: 0.186\n",
      "Weights: {'p_6_cw': 0.1, 'p_6_ccw': 0.1, 'p_6_f': 0.1, 'p_6_b': 0.1, 'p_6_l': 0.1, 'p_6_r': 0.1, 'p_5_cw': 0.1, 'p_5_ccw': 0.1, 'p_5_f': 0.1, 'p_5_b': 0.1, 'p_5_l': 0.1, 'p_5_r': 0.1, 'p_4_cw': 0.1, 'p_4_ccw': 0.1, 'p_4_f': 0.1, 'p_4_b': 0.1, 'p_4_l': 0.1, 'p_4_r': 0.1, 'p_3_cw': 0.1, 'p_3_ccw': 0.1, 'p_3_f': 0.1, 'p_3_b': 0.1, 'p_3_l': 0.1, 'p_3_r': 0.1, 'p_2_cw': 0.1, 'p_2_ccw': 0.1, 'p_2_f': 0.1, 'p_2_b': 0.1, 'p_2_l': 0.1, 'p_2_r': 0.1, 'p_1_cw': 0.1, 'p_1_ccw': 0.1, 'p_1_f': 0.1, 'p_1_b': 0.1, 'p_1_l': 0.1, 'p_1_r': 0.1}\n",
      "Espilon: 0.897\n",
      "\n",
      "Training Session 0\n",
      "Training Move: 40000\n",
      "Training Running Time:  46.808300256729126\n",
      "Total Running Time:  46.808300256729126\n",
      "\n",
      "\n",
      "[' ' ' '] ['o' 'o'] [' ' ' '] [' ' ' '] \n",
      "[' ' ' '] ['y' 'r'] [' ' ' '] [' ' ' '] \n",
      "\n",
      "['b' 'r'] ['g' 'y'] ['b' 'b'] ['y' 'w'] \n",
      "['w' 'r'] ['w' 'g'] ['o' 'o'] ['g' 'g'] \n",
      "\n",
      "[' ' ' '] ['b' 'w'] [' ' ' '] [' ' ' '] \n",
      "[' ' ' '] ['r' 'y'] [' ' ' '] [' ' ' '] \n",
      "Reward: 0.216\n",
      "Weights: {'p_6_cw': 0.1, 'p_6_ccw': 0.1, 'p_6_f': 0.1, 'p_6_b': 0.1, 'p_6_l': 0.1, 'p_6_r': 0.1, 'p_5_cw': 0.1, 'p_5_ccw': 0.1, 'p_5_f': 0.1, 'p_5_b': 0.1, 'p_5_l': 0.1, 'p_5_r': 0.1, 'p_4_cw': 0.1, 'p_4_ccw': 0.1, 'p_4_f': 0.1, 'p_4_b': 0.1, 'p_4_l': 0.1, 'p_4_r': 0.1, 'p_3_cw': 0.1, 'p_3_ccw': 0.1, 'p_3_f': 0.1, 'p_3_b': 0.1, 'p_3_l': 0.1, 'p_3_r': 0.1, 'p_2_cw': 0.1, 'p_2_ccw': 0.1, 'p_2_f': 0.1, 'p_2_b': 0.1, 'p_2_l': 0.1, 'p_2_r': 0.1, 'p_1_cw': 0.1, 'p_1_ccw': 0.1, 'p_1_f': 0.1, 'p_1_b': 0.1, 'p_1_l': 0.1, 'p_1_r': 0.1}\n",
      "Espilon: 0.896\n"
     ]
    },
    {
     "output_type": "error",
     "ename": "KeyboardInterrupt",
     "evalue": "",
     "traceback": [
      "\u001b[1;31m---------------------------------------------------------------------------\u001b[0m",
      "\u001b[1;31mKeyboardInterrupt\u001b[0m                         Traceback (most recent call last)",
      "\u001b[1;32m<ipython-input-3-03f9e66b8b04>\u001b[0m in \u001b[0;36m<module>\u001b[1;34m\u001b[0m\n\u001b[1;32m----> 1\u001b[1;33m \u001b[0ma\u001b[0m\u001b[1;33m.\u001b[0m\u001b[0mtrain\u001b[0m\u001b[1;33m(\u001b[0m\u001b[0msave_prefix\u001b[0m\u001b[1;33m=\u001b[0m\u001b[1;34m'11_30_v2'\u001b[0m\u001b[1;33m)\u001b[0m\u001b[1;33m\u001b[0m\u001b[1;33m\u001b[0m\u001b[0m\n\u001b[0m",
      "\u001b[1;32mc:\\Users\\aambr\\OneDrive\\Documents\\UNH Fall 2019\\AI\\Final Project\\rubiksqlearning\\agent.py\u001b[0m in \u001b[0;36mtrain\u001b[1;34m(self, save_prefix)\u001b[0m\n\u001b[0;32m    345\u001b[0m                     \u001b[0mnextState\u001b[0m\u001b[1;33m.\u001b[0m\u001b[0mshowCube\u001b[0m\u001b[1;33m(\u001b[0m\u001b[1;33m)\u001b[0m\u001b[1;33m\u001b[0m\u001b[1;33m\u001b[0m\u001b[0m\n\u001b[0;32m    346\u001b[0m                     \u001b[0mreward\u001b[0m \u001b[1;33m=\u001b[0m \u001b[1;36m100\u001b[0m\u001b[1;33m\u001b[0m\u001b[1;33m\u001b[0m\u001b[0m\n\u001b[1;32m--> 347\u001b[1;33m                 \u001b[0mself\u001b[0m\u001b[1;33m.\u001b[0m\u001b[0mupdate\u001b[0m\u001b[1;33m(\u001b[0m\u001b[0mc\u001b[0m\u001b[1;33m,\u001b[0m \u001b[0maction\u001b[0m\u001b[1;33m,\u001b[0m \u001b[0mnextState\u001b[0m\u001b[1;33m,\u001b[0m \u001b[0mreward\u001b[0m\u001b[1;33m)\u001b[0m\u001b[1;33m\u001b[0m\u001b[1;33m\u001b[0m\u001b[0m\n\u001b[0m\u001b[0;32m    348\u001b[0m                 \u001b[1;31m# prev_score = c.get_features()['one_color_faces'] + c.get_features()['inv_avg_cpf']\u001b[0m\u001b[1;33m\u001b[0m\u001b[1;33m\u001b[0m\u001b[1;33m\u001b[0m\u001b[0m\n\u001b[0;32m    349\u001b[0m                 \u001b[1;31m# prev_score = c.get_features()['one_color_faces']\u001b[0m\u001b[1;33m\u001b[0m\u001b[1;33m\u001b[0m\u001b[1;33m\u001b[0m\u001b[0m\n",
      "\u001b[1;32mc:\\Users\\aambr\\OneDrive\\Documents\\UNH Fall 2019\\AI\\Final Project\\rubiksqlearning\\agent.py\u001b[0m in \u001b[0;36mupdate\u001b[1;34m(self, state, action, nextState, reward)\u001b[0m\n\u001b[0;32m    252\u001b[0m         \u001b[1;31m# w_i = w_i + learning_rate * difference * f_i(s,a)\u001b[0m\u001b[1;33m\u001b[0m\u001b[1;33m\u001b[0m\u001b[1;33m\u001b[0m\u001b[0m\n\u001b[0;32m    253\u001b[0m         \u001b[1;31m# difference = [R + discount * max Q(s',a')] - Q(s,a)\u001b[0m\u001b[1;33m\u001b[0m\u001b[1;33m\u001b[0m\u001b[1;33m\u001b[0m\u001b[0m\n\u001b[1;32m--> 254\u001b[1;33m         \u001b[0mdifference\u001b[0m \u001b[1;33m=\u001b[0m \u001b[1;33m(\u001b[0m\u001b[0mreward\u001b[0m \u001b[1;33m+\u001b[0m \u001b[0mself\u001b[0m\u001b[1;33m.\u001b[0m\u001b[0mdiscount\u001b[0m \u001b[1;33m*\u001b[0m \u001b[0mself\u001b[0m\u001b[1;33m.\u001b[0m\u001b[0mgetValue\u001b[0m\u001b[1;33m(\u001b[0m\u001b[0mnextState\u001b[0m\u001b[1;33m)\u001b[0m\u001b[1;33m)\u001b[0m \u001b[1;33m-\u001b[0m \u001b[0mself\u001b[0m\u001b[1;33m.\u001b[0m\u001b[0mgetQValue\u001b[0m\u001b[1;33m(\u001b[0m\u001b[0mstate\u001b[0m\u001b[1;33m,\u001b[0m\u001b[0maction\u001b[0m\u001b[1;33m)\u001b[0m\u001b[1;33m\u001b[0m\u001b[1;33m\u001b[0m\u001b[0m\n\u001b[0m\u001b[0;32m    255\u001b[0m \u001b[1;33m\u001b[0m\u001b[0m\n\u001b[0;32m    256\u001b[0m         \u001b[0mfeatureVector\u001b[0m \u001b[1;33m=\u001b[0m \u001b[0mself\u001b[0m\u001b[1;33m.\u001b[0m\u001b[0mgetFeatures\u001b[0m\u001b[1;33m(\u001b[0m\u001b[0mstate\u001b[0m\u001b[1;33m,\u001b[0m\u001b[0maction\u001b[0m\u001b[1;33m)\u001b[0m\u001b[1;33m\u001b[0m\u001b[1;33m\u001b[0m\u001b[0m\n",
      "\u001b[1;32mc:\\Users\\aambr\\OneDrive\\Documents\\UNH Fall 2019\\AI\\Final Project\\rubiksqlearning\\agent.py\u001b[0m in \u001b[0;36mgetValue\u001b[1;34m(self, state)\u001b[0m\n\u001b[0;32m    190\u001b[0m \u001b[1;33m\u001b[0m\u001b[0m\n\u001b[0;32m    191\u001b[0m     \u001b[1;32mdef\u001b[0m \u001b[0mgetValue\u001b[0m\u001b[1;33m(\u001b[0m\u001b[0mself\u001b[0m\u001b[1;33m,\u001b[0m \u001b[0mstate\u001b[0m\u001b[1;33m)\u001b[0m\u001b[1;33m:\u001b[0m\u001b[1;33m\u001b[0m\u001b[1;33m\u001b[0m\u001b[0m\n\u001b[1;32m--> 192\u001b[1;33m         \u001b[1;32mreturn\u001b[0m \u001b[0mself\u001b[0m\u001b[1;33m.\u001b[0m\u001b[0mcomputeValueFromQValues\u001b[0m\u001b[1;33m(\u001b[0m\u001b[0mstate\u001b[0m\u001b[1;33m)\u001b[0m\u001b[1;33m\u001b[0m\u001b[1;33m\u001b[0m\u001b[0m\n\u001b[0m\u001b[0;32m    193\u001b[0m \u001b[1;33m\u001b[0m\u001b[0m\n\u001b[0;32m    194\u001b[0m     \u001b[1;32mdef\u001b[0m \u001b[0mgetPolicy\u001b[0m\u001b[1;33m(\u001b[0m\u001b[0mself\u001b[0m\u001b[1;33m,\u001b[0m \u001b[0mstate\u001b[0m\u001b[1;33m)\u001b[0m\u001b[1;33m:\u001b[0m\u001b[1;33m\u001b[0m\u001b[1;33m\u001b[0m\u001b[0m\n",
      "\u001b[1;32mc:\\Users\\aambr\\OneDrive\\Documents\\UNH Fall 2019\\AI\\Final Project\\rubiksqlearning\\agent.py\u001b[0m in \u001b[0;36mcomputeValueFromQValues\u001b[1;34m(self, state)\u001b[0m\n\u001b[0;32m    184\u001b[0m             \u001b[0mmax_action\u001b[0m \u001b[1;33m=\u001b[0m \u001b[1;33m-\u001b[0m\u001b[1;36m99999999\u001b[0m\u001b[1;33m\u001b[0m\u001b[1;33m\u001b[0m\u001b[0m\n\u001b[0;32m    185\u001b[0m             \u001b[1;32mfor\u001b[0m \u001b[0maction\u001b[0m \u001b[1;32min\u001b[0m \u001b[0mactions\u001b[0m\u001b[1;33m:\u001b[0m\u001b[1;33m\u001b[0m\u001b[1;33m\u001b[0m\u001b[0m\n\u001b[1;32m--> 186\u001b[1;33m                 \u001b[0mQval\u001b[0m \u001b[1;33m=\u001b[0m \u001b[0mself\u001b[0m\u001b[1;33m.\u001b[0m\u001b[0mgetQValue\u001b[0m\u001b[1;33m(\u001b[0m\u001b[0mstate\u001b[0m\u001b[1;33m,\u001b[0m\u001b[0maction\u001b[0m\u001b[1;33m)\u001b[0m\u001b[1;33m\u001b[0m\u001b[1;33m\u001b[0m\u001b[0m\n\u001b[0m\u001b[0;32m    187\u001b[0m                 \u001b[1;32mif\u001b[0m \u001b[0mQval\u001b[0m \u001b[1;33m>\u001b[0m \u001b[0mmax_action\u001b[0m\u001b[1;33m:\u001b[0m\u001b[1;33m\u001b[0m\u001b[1;33m\u001b[0m\u001b[0m\n\u001b[0;32m    188\u001b[0m                     \u001b[0mmax_action\u001b[0m \u001b[1;33m=\u001b[0m \u001b[0mQval\u001b[0m\u001b[1;33m\u001b[0m\u001b[1;33m\u001b[0m\u001b[0m\n",
      "\u001b[1;32mc:\\Users\\aambr\\OneDrive\\Documents\\UNH Fall 2019\\AI\\Final Project\\rubiksqlearning\\agent.py\u001b[0m in \u001b[0;36mgetQValue\u001b[1;34m(self, state, action)\u001b[0m\n\u001b[0;32m    131\u001b[0m         \"\"\"\n\u001b[0;32m    132\u001b[0m         \u001b[1;31m# Get dictionary of features\u001b[0m\u001b[1;33m\u001b[0m\u001b[1;33m\u001b[0m\u001b[1;33m\u001b[0m\u001b[0m\n\u001b[1;32m--> 133\u001b[1;33m         \u001b[0mfeatureVector\u001b[0m \u001b[1;33m=\u001b[0m \u001b[0mself\u001b[0m\u001b[1;33m.\u001b[0m\u001b[0mgetFeatures\u001b[0m\u001b[1;33m(\u001b[0m\u001b[0mstate\u001b[0m\u001b[1;33m,\u001b[0m\u001b[0maction\u001b[0m\u001b[1;33m)\u001b[0m\u001b[1;33m\u001b[0m\u001b[1;33m\u001b[0m\u001b[0m\n\u001b[0m\u001b[0;32m    134\u001b[0m         \u001b[1;31m# Get dictionary mapping features to weights\u001b[0m\u001b[1;33m\u001b[0m\u001b[1;33m\u001b[0m\u001b[1;33m\u001b[0m\u001b[0m\n\u001b[0;32m    135\u001b[0m         \u001b[0mweightVector\u001b[0m \u001b[1;33m=\u001b[0m \u001b[0mself\u001b[0m\u001b[1;33m.\u001b[0m\u001b[0mgetWeights\u001b[0m\u001b[1;33m(\u001b[0m\u001b[1;33m)\u001b[0m\u001b[1;33m\u001b[0m\u001b[1;33m\u001b[0m\u001b[0m\n",
      "\u001b[1;32mc:\\Users\\aambr\\OneDrive\\Documents\\UNH Fall 2019\\AI\\Final Project\\rubiksqlearning\\agent.py\u001b[0m in \u001b[0;36mgetFeatures\u001b[1;34m(self, state, action)\u001b[0m\n\u001b[0;32m     74\u001b[0m         \u001b[0mmoves\u001b[0m \u001b[1;33m=\u001b[0m \u001b[0mself\u001b[0m\u001b[1;33m.\u001b[0m\u001b[0mprev_moves\u001b[0m\u001b[1;33m\u001b[0m\u001b[1;33m\u001b[0m\u001b[0m\n\u001b[0;32m     75\u001b[0m         \u001b[1;31m# create a copy to perform action on to get new features after action\u001b[0m\u001b[1;33m\u001b[0m\u001b[1;33m\u001b[0m\u001b[1;33m\u001b[0m\u001b[0m\n\u001b[1;32m---> 76\u001b[1;33m         \u001b[0mcopy\u001b[0m \u001b[1;33m=\u001b[0m \u001b[0mstate\u001b[0m\u001b[1;33m.\u001b[0m\u001b[0mcopy\u001b[0m\u001b[1;33m(\u001b[0m\u001b[1;33m)\u001b[0m\u001b[1;33m\u001b[0m\u001b[1;33m\u001b[0m\u001b[0m\n\u001b[0m\u001b[0;32m     77\u001b[0m         \u001b[1;32mif\u001b[0m \u001b[0maction\u001b[0m \u001b[1;33m!=\u001b[0m \u001b[1;32mNone\u001b[0m\u001b[1;33m:\u001b[0m\u001b[1;33m\u001b[0m\u001b[1;33m\u001b[0m\u001b[0m\n\u001b[0;32m     78\u001b[0m             \u001b[1;31m# perform action on copy\u001b[0m\u001b[1;33m\u001b[0m\u001b[1;33m\u001b[0m\u001b[1;33m\u001b[0m\u001b[0m\n",
      "\u001b[1;32mc:\\Users\\aambr\\OneDrive\\Documents\\UNH Fall 2019\\AI\\Final Project\\rubiksqlearning\\cube_sim.py\u001b[0m in \u001b[0;36mcopy\u001b[1;34m(self)\u001b[0m\n\u001b[0;32m     47\u001b[0m     \u001b[1;32mdef\u001b[0m \u001b[0mcopy\u001b[0m\u001b[1;33m(\u001b[0m\u001b[0mself\u001b[0m\u001b[1;33m)\u001b[0m\u001b[1;33m:\u001b[0m\u001b[1;33m\u001b[0m\u001b[1;33m\u001b[0m\u001b[0m\n\u001b[0;32m     48\u001b[0m         \u001b[1;34m'''Helper function to make deep copy of cube'''\u001b[0m\u001b[1;33m\u001b[0m\u001b[1;33m\u001b[0m\u001b[0m\n\u001b[1;32m---> 49\u001b[1;33m         \u001b[1;32mreturn\u001b[0m \u001b[0mcopy\u001b[0m\u001b[1;33m.\u001b[0m\u001b[0mdeepcopy\u001b[0m\u001b[1;33m(\u001b[0m\u001b[0mself\u001b[0m\u001b[1;33m)\u001b[0m\u001b[1;33m\u001b[0m\u001b[1;33m\u001b[0m\u001b[0m\n\u001b[0m\u001b[0;32m     50\u001b[0m \u001b[1;33m\u001b[0m\u001b[0m\n\u001b[0;32m     51\u001b[0m     \u001b[1;31m# Show flattened cube\u001b[0m\u001b[1;33m\u001b[0m\u001b[1;33m\u001b[0m\u001b[1;33m\u001b[0m\u001b[0m\n",
      "\u001b[1;32mc:\\users\\aambr\\appdata\\local\\programs\\python\\python39\\lib\\copy.py\u001b[0m in \u001b[0;36mdeepcopy\u001b[1;34m(x, memo, _nil)\u001b[0m\n\u001b[0;32m    170\u001b[0m                     \u001b[0my\u001b[0m \u001b[1;33m=\u001b[0m \u001b[0mx\u001b[0m\u001b[1;33m\u001b[0m\u001b[1;33m\u001b[0m\u001b[0m\n\u001b[0;32m    171\u001b[0m                 \u001b[1;32melse\u001b[0m\u001b[1;33m:\u001b[0m\u001b[1;33m\u001b[0m\u001b[1;33m\u001b[0m\u001b[0m\n\u001b[1;32m--> 172\u001b[1;33m                     \u001b[0my\u001b[0m \u001b[1;33m=\u001b[0m \u001b[0m_reconstruct\u001b[0m\u001b[1;33m(\u001b[0m\u001b[0mx\u001b[0m\u001b[1;33m,\u001b[0m \u001b[0mmemo\u001b[0m\u001b[1;33m,\u001b[0m \u001b[1;33m*\u001b[0m\u001b[0mrv\u001b[0m\u001b[1;33m)\u001b[0m\u001b[1;33m\u001b[0m\u001b[1;33m\u001b[0m\u001b[0m\n\u001b[0m\u001b[0;32m    173\u001b[0m \u001b[1;33m\u001b[0m\u001b[0m\n\u001b[0;32m    174\u001b[0m     \u001b[1;31m# If is its own copy, don't memoize.\u001b[0m\u001b[1;33m\u001b[0m\u001b[1;33m\u001b[0m\u001b[1;33m\u001b[0m\u001b[0m\n",
      "\u001b[1;32mc:\\users\\aambr\\appdata\\local\\programs\\python\\python39\\lib\\copy.py\u001b[0m in \u001b[0;36m_reconstruct\u001b[1;34m(x, memo, func, args, state, listiter, dictiter, deepcopy)\u001b[0m\n\u001b[0;32m    268\u001b[0m     \u001b[1;32mif\u001b[0m \u001b[0mstate\u001b[0m \u001b[1;32mis\u001b[0m \u001b[1;32mnot\u001b[0m \u001b[1;32mNone\u001b[0m\u001b[1;33m:\u001b[0m\u001b[1;33m\u001b[0m\u001b[1;33m\u001b[0m\u001b[0m\n\u001b[0;32m    269\u001b[0m         \u001b[1;32mif\u001b[0m \u001b[0mdeep\u001b[0m\u001b[1;33m:\u001b[0m\u001b[1;33m\u001b[0m\u001b[1;33m\u001b[0m\u001b[0m\n\u001b[1;32m--> 270\u001b[1;33m             \u001b[0mstate\u001b[0m \u001b[1;33m=\u001b[0m \u001b[0mdeepcopy\u001b[0m\u001b[1;33m(\u001b[0m\u001b[0mstate\u001b[0m\u001b[1;33m,\u001b[0m \u001b[0mmemo\u001b[0m\u001b[1;33m)\u001b[0m\u001b[1;33m\u001b[0m\u001b[1;33m\u001b[0m\u001b[0m\n\u001b[0m\u001b[0;32m    271\u001b[0m         \u001b[1;32mif\u001b[0m \u001b[0mhasattr\u001b[0m\u001b[1;33m(\u001b[0m\u001b[0my\u001b[0m\u001b[1;33m,\u001b[0m \u001b[1;34m'__setstate__'\u001b[0m\u001b[1;33m)\u001b[0m\u001b[1;33m:\u001b[0m\u001b[1;33m\u001b[0m\u001b[1;33m\u001b[0m\u001b[0m\n\u001b[0;32m    272\u001b[0m             \u001b[0my\u001b[0m\u001b[1;33m.\u001b[0m\u001b[0m__setstate__\u001b[0m\u001b[1;33m(\u001b[0m\u001b[0mstate\u001b[0m\u001b[1;33m)\u001b[0m\u001b[1;33m\u001b[0m\u001b[1;33m\u001b[0m\u001b[0m\n",
      "\u001b[1;32mc:\\users\\aambr\\appdata\\local\\programs\\python\\python39\\lib\\copy.py\u001b[0m in \u001b[0;36mdeepcopy\u001b[1;34m(x, memo, _nil)\u001b[0m\n\u001b[0;32m    144\u001b[0m     \u001b[0mcopier\u001b[0m \u001b[1;33m=\u001b[0m \u001b[0m_deepcopy_dispatch\u001b[0m\u001b[1;33m.\u001b[0m\u001b[0mget\u001b[0m\u001b[1;33m(\u001b[0m\u001b[0mcls\u001b[0m\u001b[1;33m)\u001b[0m\u001b[1;33m\u001b[0m\u001b[1;33m\u001b[0m\u001b[0m\n\u001b[0;32m    145\u001b[0m     \u001b[1;32mif\u001b[0m \u001b[0mcopier\u001b[0m \u001b[1;32mis\u001b[0m \u001b[1;32mnot\u001b[0m \u001b[1;32mNone\u001b[0m\u001b[1;33m:\u001b[0m\u001b[1;33m\u001b[0m\u001b[1;33m\u001b[0m\u001b[0m\n\u001b[1;32m--> 146\u001b[1;33m         \u001b[0my\u001b[0m \u001b[1;33m=\u001b[0m \u001b[0mcopier\u001b[0m\u001b[1;33m(\u001b[0m\u001b[0mx\u001b[0m\u001b[1;33m,\u001b[0m \u001b[0mmemo\u001b[0m\u001b[1;33m)\u001b[0m\u001b[1;33m\u001b[0m\u001b[1;33m\u001b[0m\u001b[0m\n\u001b[0m\u001b[0;32m    147\u001b[0m     \u001b[1;32melse\u001b[0m\u001b[1;33m:\u001b[0m\u001b[1;33m\u001b[0m\u001b[1;33m\u001b[0m\u001b[0m\n\u001b[0;32m    148\u001b[0m         \u001b[1;32mif\u001b[0m \u001b[0missubclass\u001b[0m\u001b[1;33m(\u001b[0m\u001b[0mcls\u001b[0m\u001b[1;33m,\u001b[0m \u001b[0mtype\u001b[0m\u001b[1;33m)\u001b[0m\u001b[1;33m:\u001b[0m\u001b[1;33m\u001b[0m\u001b[1;33m\u001b[0m\u001b[0m\n",
      "\u001b[1;32mc:\\users\\aambr\\appdata\\local\\programs\\python\\python39\\lib\\copy.py\u001b[0m in \u001b[0;36m_deepcopy_dict\u001b[1;34m(x, memo, deepcopy)\u001b[0m\n\u001b[0;32m    228\u001b[0m     \u001b[0mmemo\u001b[0m\u001b[1;33m[\u001b[0m\u001b[0mid\u001b[0m\u001b[1;33m(\u001b[0m\u001b[0mx\u001b[0m\u001b[1;33m)\u001b[0m\u001b[1;33m]\u001b[0m \u001b[1;33m=\u001b[0m \u001b[0my\u001b[0m\u001b[1;33m\u001b[0m\u001b[1;33m\u001b[0m\u001b[0m\n\u001b[0;32m    229\u001b[0m     \u001b[1;32mfor\u001b[0m \u001b[0mkey\u001b[0m\u001b[1;33m,\u001b[0m \u001b[0mvalue\u001b[0m \u001b[1;32min\u001b[0m \u001b[0mx\u001b[0m\u001b[1;33m.\u001b[0m\u001b[0mitems\u001b[0m\u001b[1;33m(\u001b[0m\u001b[1;33m)\u001b[0m\u001b[1;33m:\u001b[0m\u001b[1;33m\u001b[0m\u001b[1;33m\u001b[0m\u001b[0m\n\u001b[1;32m--> 230\u001b[1;33m         \u001b[0my\u001b[0m\u001b[1;33m[\u001b[0m\u001b[0mdeepcopy\u001b[0m\u001b[1;33m(\u001b[0m\u001b[0mkey\u001b[0m\u001b[1;33m,\u001b[0m \u001b[0mmemo\u001b[0m\u001b[1;33m)\u001b[0m\u001b[1;33m]\u001b[0m \u001b[1;33m=\u001b[0m \u001b[0mdeepcopy\u001b[0m\u001b[1;33m(\u001b[0m\u001b[0mvalue\u001b[0m\u001b[1;33m,\u001b[0m \u001b[0mmemo\u001b[0m\u001b[1;33m)\u001b[0m\u001b[1;33m\u001b[0m\u001b[1;33m\u001b[0m\u001b[0m\n\u001b[0m\u001b[0;32m    231\u001b[0m     \u001b[1;32mreturn\u001b[0m \u001b[0my\u001b[0m\u001b[1;33m\u001b[0m\u001b[1;33m\u001b[0m\u001b[0m\n\u001b[0;32m    232\u001b[0m \u001b[0md\u001b[0m\u001b[1;33m[\u001b[0m\u001b[0mdict\u001b[0m\u001b[1;33m]\u001b[0m \u001b[1;33m=\u001b[0m \u001b[0m_deepcopy_dict\u001b[0m\u001b[1;33m\u001b[0m\u001b[1;33m\u001b[0m\u001b[0m\n",
      "\u001b[1;32mc:\\users\\aambr\\appdata\\local\\programs\\python\\python39\\lib\\copy.py\u001b[0m in \u001b[0;36mdeepcopy\u001b[1;34m(x, memo, _nil)\u001b[0m\n\u001b[0;32m    151\u001b[0m             \u001b[0mcopier\u001b[0m \u001b[1;33m=\u001b[0m \u001b[0mgetattr\u001b[0m\u001b[1;33m(\u001b[0m\u001b[0mx\u001b[0m\u001b[1;33m,\u001b[0m \u001b[1;34m\"__deepcopy__\"\u001b[0m\u001b[1;33m,\u001b[0m \u001b[1;32mNone\u001b[0m\u001b[1;33m)\u001b[0m\u001b[1;33m\u001b[0m\u001b[1;33m\u001b[0m\u001b[0m\n\u001b[0;32m    152\u001b[0m             \u001b[1;32mif\u001b[0m \u001b[0mcopier\u001b[0m \u001b[1;32mis\u001b[0m \u001b[1;32mnot\u001b[0m \u001b[1;32mNone\u001b[0m\u001b[1;33m:\u001b[0m\u001b[1;33m\u001b[0m\u001b[1;33m\u001b[0m\u001b[0m\n\u001b[1;32m--> 153\u001b[1;33m                 \u001b[0my\u001b[0m \u001b[1;33m=\u001b[0m \u001b[0mcopier\u001b[0m\u001b[1;33m(\u001b[0m\u001b[0mmemo\u001b[0m\u001b[1;33m)\u001b[0m\u001b[1;33m\u001b[0m\u001b[1;33m\u001b[0m\u001b[0m\n\u001b[0m\u001b[0;32m    154\u001b[0m             \u001b[1;32melse\u001b[0m\u001b[1;33m:\u001b[0m\u001b[1;33m\u001b[0m\u001b[1;33m\u001b[0m\u001b[0m\n\u001b[0;32m    155\u001b[0m                 \u001b[0mreductor\u001b[0m \u001b[1;33m=\u001b[0m \u001b[0mdispatch_table\u001b[0m\u001b[1;33m.\u001b[0m\u001b[0mget\u001b[0m\u001b[1;33m(\u001b[0m\u001b[0mcls\u001b[0m\u001b[1;33m)\u001b[0m\u001b[1;33m\u001b[0m\u001b[1;33m\u001b[0m\u001b[0m\n",
      "\u001b[1;31mKeyboardInterrupt\u001b[0m: "
     ]
    }
   ],
   "source": [
    "a.train(save_prefix='12_01_v0')"
   ]
  },
  {
   "cell_type": "code",
   "execution_count": null,
   "metadata": {},
   "outputs": [],
   "source": []
  },
  {
   "cell_type": "code",
   "execution_count": 3,
   "metadata": {},
   "outputs": [
    {
     "output_type": "stream",
     "name": "stdout",
     "text": [
      "Loading agent from output\n"
     ]
    }
   ],
   "source": [
    "a = a.load(fname='11_29_episode_9',inpath=Path('./output'))"
   ]
  },
  {
   "cell_type": "code",
   "execution_count": 4,
   "metadata": {},
   "outputs": [
    {
     "output_type": "execute_result",
     "data": {
      "text/plain": [
       "{'inv_avg_cpf': -0.8126009215472978,\n",
       " 'one_color_faces': 3.71666672876379,\n",
       " 'front_top': 1.8435795665523504,\n",
       " 'front_bottom': 1.8786731158129888,\n",
       " 'front_left': 1.893943932716057,\n",
       " 'front_right': 1.9863141895255332,\n",
       " 'front_back': 1.6644388954831755,\n",
       " 'top_bottom': 1.7390693172257552,\n",
       " 'top_left': 1.8593690943990224,\n",
       " 'top_right': 1.8973075516038833,\n",
       " 'top_back': 1.960315417695737,\n",
       " 'bottom_left': 1.9338982230200603,\n",
       " 'bottom_right': 1.887836912909231,\n",
       " 'bottom_back': 1.9347503456653232,\n",
       " 'left_right': 1.8231487567163853,\n",
       " 'left_back': 1.8704083487053857,\n",
       " 'right_back': 1.8879273559645426}"
      ]
     },
     "metadata": {},
     "execution_count": 4
    }
   ],
   "source": [
    "a.weights"
   ]
  },
  {
   "cell_type": "code",
   "execution_count": 5,
   "metadata": {},
   "outputs": [],
   "source": [
    "cube = cube_sim.cube()"
   ]
  },
  {
   "cell_type": "code",
   "execution_count": 6,
   "metadata": {},
   "outputs": [],
   "source": [
    "cube.randomize()"
   ]
  },
  {
   "cell_type": "code",
   "execution_count": 7,
   "metadata": {},
   "outputs": [
    {
     "output_type": "stream",
     "name": "stdout",
     "text": [
      "Starting State:\n",
      "\n",
      "\n",
      "[' ' ' '] ['w' 'b'] [' ' ' '] [' ' ' '] \n",
      "[' ' ' '] ['r' 'g'] [' ' ' '] [' ' ' '] \n",
      "\n",
      "['g' 'b'] ['w' 'r'] ['w' 'y'] ['o' 'o'] \n",
      "['y' 'b'] ['y' 'w'] ['o' 'o'] ['g' 'r'] \n",
      "\n",
      "[' ' ' '] ['r' 'b'] [' ' ' '] [' ' ' '] \n",
      "[' ' ' '] ['g' 'y'] [' ' ' '] [' ' ' '] \n",
      "On Move 0\n",
      "Run time: 0.0019943714141845703\n",
      "\n",
      "On Move 1000\n",
      "Run time: 2.360713481903076\n",
      "\n",
      "On Move 2000\n",
      "Run time: 4.735370397567749\n",
      "\n",
      "On Move 3000\n",
      "Run time: 7.107996940612793\n",
      "\n",
      "On Move 4000\n",
      "Run time: 9.46070671081543\n",
      "\n",
      "On Move 5000\n",
      "Run time: 11.81344223022461\n",
      "\n",
      "On Move 6000\n",
      "Run time: 14.176100969314575\n",
      "\n",
      "On Move 7000\n",
      "Run time: 16.53978204727173\n",
      "\n",
      "On Move 8000\n",
      "Run time: 18.86259651184082\n",
      "\n",
      "On Move 9000\n",
      "Run time: 21.189613819122314\n",
      "\n",
      "On Move 10000\n",
      "Run time: 23.5333731174469\n",
      "\n",
      "On Move 11000\n",
      "Run time: 25.88408875465393\n"
     ]
    },
    {
     "output_type": "error",
     "ename": "KeyboardInterrupt",
     "evalue": "",
     "traceback": [
      "\u001b[1;31m---------------------------------------------------------------------------\u001b[0m",
      "\u001b[1;31mKeyboardInterrupt\u001b[0m                         Traceback (most recent call last)",
      "\u001b[1;32m<ipython-input-7-26bb028f38a5>\u001b[0m in \u001b[0;36m<module>\u001b[1;34m\u001b[0m\n\u001b[1;32m----> 1\u001b[1;33m \u001b[0ma\u001b[0m\u001b[1;33m.\u001b[0m\u001b[0msolve\u001b[0m\u001b[1;33m(\u001b[0m\u001b[0mcube\u001b[0m\u001b[1;33m)\u001b[0m\u001b[1;33m\u001b[0m\u001b[1;33m\u001b[0m\u001b[0m\n\u001b[0m",
      "\u001b[1;32mc:\\Users\\aambr\\OneDrive\\Documents\\UNH Fall 2019\\AI\\Final Project\\rubiksqlearning\\agent.py\u001b[0m in \u001b[0;36msolve\u001b[1;34m(self, state, verbose, move_update, ret_moves)\u001b[0m\n\u001b[0;32m    322\u001b[0m                     \u001b[0mprint\u001b[0m\u001b[1;33m(\u001b[0m\u001b[1;34m\"verbose = true\"\u001b[0m\u001b[1;33m)\u001b[0m\u001b[1;33m\u001b[0m\u001b[1;33m\u001b[0m\u001b[0m\n\u001b[0;32m    323\u001b[0m                     \u001b[0mc\u001b[0m\u001b[1;33m.\u001b[0m\u001b[0mshowCube\u001b[0m\u001b[1;33m(\u001b[0m\u001b[1;33m)\u001b[0m\u001b[1;33m\u001b[0m\u001b[1;33m\u001b[0m\u001b[0m\n\u001b[1;32m--> 324\u001b[1;33m             \u001b[0maction\u001b[0m \u001b[1;33m=\u001b[0m \u001b[0mself\u001b[0m\u001b[1;33m.\u001b[0m\u001b[0mgetPolicy\u001b[0m\u001b[1;33m(\u001b[0m\u001b[0mc\u001b[0m\u001b[1;33m)\u001b[0m\u001b[1;33m\u001b[0m\u001b[1;33m\u001b[0m\u001b[0m\n\u001b[0m\u001b[0;32m    325\u001b[0m             \u001b[0mnextState\u001b[0m \u001b[1;33m=\u001b[0m \u001b[0mself\u001b[0m\u001b[1;33m.\u001b[0m\u001b[0mgetNextState\u001b[0m\u001b[1;33m(\u001b[0m\u001b[0mc\u001b[0m\u001b[1;33m,\u001b[0m\u001b[0maction\u001b[0m\u001b[1;33m)\u001b[0m\u001b[1;33m\u001b[0m\u001b[1;33m\u001b[0m\u001b[0m\n\u001b[0;32m    326\u001b[0m             \u001b[0mc\u001b[0m \u001b[1;33m=\u001b[0m \u001b[0mnextState\u001b[0m\u001b[1;33m\u001b[0m\u001b[1;33m\u001b[0m\u001b[0m\n",
      "\u001b[1;32mc:\\Users\\aambr\\OneDrive\\Documents\\UNH Fall 2019\\AI\\Final Project\\rubiksqlearning\\agent.py\u001b[0m in \u001b[0;36mgetPolicy\u001b[1;34m(self, state)\u001b[0m\n\u001b[0;32m    167\u001b[0m \u001b[1;33m\u001b[0m\u001b[0m\n\u001b[0;32m    168\u001b[0m     \u001b[1;32mdef\u001b[0m \u001b[0mgetPolicy\u001b[0m\u001b[1;33m(\u001b[0m\u001b[0mself\u001b[0m\u001b[1;33m,\u001b[0m \u001b[0mstate\u001b[0m\u001b[1;33m)\u001b[0m\u001b[1;33m:\u001b[0m\u001b[1;33m\u001b[0m\u001b[1;33m\u001b[0m\u001b[0m\n\u001b[1;32m--> 169\u001b[1;33m         \u001b[1;32mreturn\u001b[0m \u001b[0mself\u001b[0m\u001b[1;33m.\u001b[0m\u001b[0mcomputeActionFromQValues\u001b[0m\u001b[1;33m(\u001b[0m\u001b[0mstate\u001b[0m\u001b[1;33m)\u001b[0m\u001b[1;33m\u001b[0m\u001b[1;33m\u001b[0m\u001b[0m\n\u001b[0m\u001b[0;32m    170\u001b[0m \u001b[1;33m\u001b[0m\u001b[0m\n\u001b[0;32m    171\u001b[0m     \u001b[1;32mdef\u001b[0m \u001b[0mgetAction\u001b[0m\u001b[1;33m(\u001b[0m\u001b[0mself\u001b[0m\u001b[1;33m,\u001b[0m \u001b[0mstate\u001b[0m\u001b[1;33m)\u001b[0m\u001b[1;33m:\u001b[0m\u001b[1;33m\u001b[0m\u001b[1;33m\u001b[0m\u001b[0m\n",
      "\u001b[1;32mc:\\Users\\aambr\\OneDrive\\Documents\\UNH Fall 2019\\AI\\Final Project\\rubiksqlearning\\agent.py\u001b[0m in \u001b[0;36mcomputeActionFromQValues\u001b[1;34m(self, state)\u001b[0m\n\u001b[0;32m    129\u001b[0m         \u001b[1;32mfor\u001b[0m \u001b[0maction\u001b[0m \u001b[1;32min\u001b[0m \u001b[0mactions\u001b[0m\u001b[1;33m:\u001b[0m\u001b[1;33m\u001b[0m\u001b[1;33m\u001b[0m\u001b[0m\n\u001b[0;32m    130\u001b[0m             \u001b[1;31m# get current qvalue of s from taking action\u001b[0m\u001b[1;33m\u001b[0m\u001b[1;33m\u001b[0m\u001b[1;33m\u001b[0m\u001b[0m\n\u001b[1;32m--> 131\u001b[1;33m             \u001b[0mval\u001b[0m \u001b[1;33m=\u001b[0m \u001b[0mself\u001b[0m\u001b[1;33m.\u001b[0m\u001b[0mgetQValue\u001b[0m\u001b[1;33m(\u001b[0m\u001b[0mstate\u001b[0m\u001b[1;33m,\u001b[0m\u001b[0maction\u001b[0m\u001b[1;33m)\u001b[0m\u001b[1;33m\u001b[0m\u001b[1;33m\u001b[0m\u001b[0m\n\u001b[0m\u001b[0;32m    132\u001b[0m             \u001b[1;31m# if the current action has a higher qval than the current max,\u001b[0m\u001b[1;33m\u001b[0m\u001b[1;33m\u001b[0m\u001b[1;33m\u001b[0m\u001b[0m\n\u001b[0;32m    133\u001b[0m               \u001b[1;31m# replace current max/action\u001b[0m\u001b[1;33m\u001b[0m\u001b[1;33m\u001b[0m\u001b[1;33m\u001b[0m\u001b[0m\n",
      "\u001b[1;32mc:\\Users\\aambr\\OneDrive\\Documents\\UNH Fall 2019\\AI\\Final Project\\rubiksqlearning\\agent.py\u001b[0m in \u001b[0;36mgetQValue\u001b[1;34m(self, state, action)\u001b[0m\n\u001b[0;32m    105\u001b[0m         \"\"\"\n\u001b[0;32m    106\u001b[0m         \u001b[1;31m# Get dictionary of features\u001b[0m\u001b[1;33m\u001b[0m\u001b[1;33m\u001b[0m\u001b[1;33m\u001b[0m\u001b[0m\n\u001b[1;32m--> 107\u001b[1;33m         \u001b[0mfeatureVector\u001b[0m \u001b[1;33m=\u001b[0m \u001b[0mself\u001b[0m\u001b[1;33m.\u001b[0m\u001b[0mgetFeatures\u001b[0m\u001b[1;33m(\u001b[0m\u001b[0mstate\u001b[0m\u001b[1;33m,\u001b[0m\u001b[0maction\u001b[0m\u001b[1;33m)\u001b[0m\u001b[1;33m\u001b[0m\u001b[1;33m\u001b[0m\u001b[0m\n\u001b[0m\u001b[0;32m    108\u001b[0m         \u001b[1;31m# Get dictionary mapping features to weights\u001b[0m\u001b[1;33m\u001b[0m\u001b[1;33m\u001b[0m\u001b[1;33m\u001b[0m\u001b[0m\n\u001b[0;32m    109\u001b[0m         \u001b[0mweightVector\u001b[0m \u001b[1;33m=\u001b[0m \u001b[0mself\u001b[0m\u001b[1;33m.\u001b[0m\u001b[0mgetWeights\u001b[0m\u001b[1;33m(\u001b[0m\u001b[1;33m)\u001b[0m\u001b[1;33m\u001b[0m\u001b[1;33m\u001b[0m\u001b[0m\n",
      "\u001b[1;32mc:\\Users\\aambr\\OneDrive\\Documents\\UNH Fall 2019\\AI\\Final Project\\rubiksqlearning\\agent.py\u001b[0m in \u001b[0;36mgetFeatures\u001b[1;34m(self, state, action)\u001b[0m\n\u001b[0;32m     89\u001b[0m         \u001b[1;31m# Unique colors amongst paired faces\u001b[0m\u001b[1;33m\u001b[0m\u001b[1;33m\u001b[0m\u001b[1;33m\u001b[0m\u001b[0m\n\u001b[0;32m     90\u001b[0m         \u001b[1;32mfor\u001b[0m \u001b[0mi\u001b[0m \u001b[1;32min\u001b[0m \u001b[0mitertools\u001b[0m\u001b[1;33m.\u001b[0m\u001b[0mcombinations\u001b[0m\u001b[1;33m(\u001b[0m\u001b[0mcopy\u001b[0m\u001b[1;33m.\u001b[0m\u001b[0mfaces\u001b[0m\u001b[1;33m,\u001b[0m\u001b[0mr\u001b[0m\u001b[1;33m=\u001b[0m\u001b[1;36m2\u001b[0m\u001b[1;33m)\u001b[0m\u001b[1;33m:\u001b[0m\u001b[1;33m\u001b[0m\u001b[1;33m\u001b[0m\u001b[0m\n\u001b[1;32m---> 91\u001b[1;33m             \u001b[0mfeat_vector\u001b[0m\u001b[1;33m[\u001b[0m\u001b[0mi\u001b[0m\u001b[1;33m[\u001b[0m\u001b[1;36m0\u001b[0m\u001b[1;33m]\u001b[0m\u001b[1;33m+\u001b[0m\u001b[1;34m'_'\u001b[0m\u001b[1;33m+\u001b[0m\u001b[0mi\u001b[0m\u001b[1;33m[\u001b[0m\u001b[1;36m1\u001b[0m\u001b[1;33m]\u001b[0m\u001b[1;33m]\u001b[0m \u001b[1;33m=\u001b[0m \u001b[1;36m1\u001b[0m\u001b[1;33m/\u001b[0m\u001b[0mlen\u001b[0m\u001b[1;33m(\u001b[0m\u001b[0mnp\u001b[0m\u001b[1;33m.\u001b[0m\u001b[0munique\u001b[0m\u001b[1;33m(\u001b[0m\u001b[0mnp\u001b[0m\u001b[1;33m.\u001b[0m\u001b[0mappend\u001b[0m\u001b[1;33m(\u001b[0m\u001b[0mcopy\u001b[0m\u001b[1;33m.\u001b[0m\u001b[0mfaces\u001b[0m\u001b[1;33m[\u001b[0m\u001b[0mi\u001b[0m\u001b[1;33m[\u001b[0m\u001b[1;36m0\u001b[0m\u001b[1;33m]\u001b[0m\u001b[1;33m]\u001b[0m\u001b[1;33m,\u001b[0m\u001b[0mcopy\u001b[0m\u001b[1;33m.\u001b[0m\u001b[0mfaces\u001b[0m\u001b[1;33m[\u001b[0m\u001b[0mi\u001b[0m\u001b[1;33m[\u001b[0m\u001b[1;36m1\u001b[0m\u001b[1;33m]\u001b[0m\u001b[1;33m]\u001b[0m\u001b[1;33m)\u001b[0m\u001b[1;33m)\u001b[0m\u001b[1;33m)\u001b[0m\u001b[1;33m\u001b[0m\u001b[1;33m\u001b[0m\u001b[0m\n\u001b[0m\u001b[0;32m     92\u001b[0m \u001b[1;33m\u001b[0m\u001b[0m\n\u001b[0;32m     93\u001b[0m         \u001b[1;31m# Maybe check for patterns of previous moves????\u001b[0m\u001b[1;33m\u001b[0m\u001b[1;33m\u001b[0m\u001b[1;33m\u001b[0m\u001b[0m\n",
      "\u001b[1;32m<__array_function__ internals>\u001b[0m in \u001b[0;36mappend\u001b[1;34m(*args, **kwargs)\u001b[0m\n",
      "\u001b[1;32m~\\.virtualenvs\\rubiks_cube-cHDp2hMf\\lib\\site-packages\\numpy\\lib\\function_base.py\u001b[0m in \u001b[0;36mappend\u001b[1;34m(arr, values, axis)\u001b[0m\n\u001b[0;32m   4669\u001b[0m         \u001b[0mvalues\u001b[0m \u001b[1;33m=\u001b[0m \u001b[0mravel\u001b[0m\u001b[1;33m(\u001b[0m\u001b[0mvalues\u001b[0m\u001b[1;33m)\u001b[0m\u001b[1;33m\u001b[0m\u001b[1;33m\u001b[0m\u001b[0m\n\u001b[0;32m   4670\u001b[0m         \u001b[0maxis\u001b[0m \u001b[1;33m=\u001b[0m \u001b[0marr\u001b[0m\u001b[1;33m.\u001b[0m\u001b[0mndim\u001b[0m\u001b[1;33m-\u001b[0m\u001b[1;36m1\u001b[0m\u001b[1;33m\u001b[0m\u001b[1;33m\u001b[0m\u001b[0m\n\u001b[1;32m-> 4671\u001b[1;33m     \u001b[1;32mreturn\u001b[0m \u001b[0mconcatenate\u001b[0m\u001b[1;33m(\u001b[0m\u001b[1;33m(\u001b[0m\u001b[0marr\u001b[0m\u001b[1;33m,\u001b[0m \u001b[0mvalues\u001b[0m\u001b[1;33m)\u001b[0m\u001b[1;33m,\u001b[0m \u001b[0maxis\u001b[0m\u001b[1;33m=\u001b[0m\u001b[0maxis\u001b[0m\u001b[1;33m)\u001b[0m\u001b[1;33m\u001b[0m\u001b[1;33m\u001b[0m\u001b[0m\n\u001b[0m\u001b[0;32m   4672\u001b[0m \u001b[1;33m\u001b[0m\u001b[0m\n\u001b[0;32m   4673\u001b[0m \u001b[1;33m\u001b[0m\u001b[0m\n",
      "\u001b[1;32m<__array_function__ internals>\u001b[0m in \u001b[0;36mconcatenate\u001b[1;34m(*args, **kwargs)\u001b[0m\n",
      "\u001b[1;31mKeyboardInterrupt\u001b[0m: "
     ]
    }
   ],
   "source": [
    "a.solve(cube)"
   ]
  },
  {
   "cell_type": "code",
   "execution_count": null,
   "metadata": {},
   "outputs": [],
   "source": []
  }
 ]
}