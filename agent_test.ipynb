{
 "metadata": {
  "language_info": {
   "codemirror_mode": {
    "name": "ipython",
    "version": 3
   },
   "file_extension": ".py",
   "mimetype": "text/x-python",
   "name": "python",
   "nbconvert_exporter": "python",
   "pygments_lexer": "ipython3",
   "version": "3.9.0-final"
  },
  "orig_nbformat": 2,
  "kernelspec": {
   "name": "python3",
   "display_name": "Python 3"
  }
 },
 "nbformat": 4,
 "nbformat_minor": 2,
 "cells": [
  {
   "cell_type": "code",
   "execution_count": 1,
   "metadata": {},
   "outputs": [],
   "source": [
    "import agent\n",
    "from importlib import reload \n",
    "import cube_sim\n",
    "# reload(cube_sim)\n",
    "# reload(agent)\n",
    "import itertools\n",
    "import numpy as np\n",
    "from pathlib import Path\n",
    "import os\n",
    "import pickle\n",
    "import json"
   ]
  },
  {
   "cell_type": "code",
   "execution_count": 2,
   "metadata": {},
   "outputs": [],
   "source": [
    "a = agent.ApproximateQAgent(numTraining=10, epsilon=.9, alpha=0.005, gamma=.9, e_decay=.000002)"
   ]
  },
  {
   "cell_type": "code",
   "execution_count": 3,
   "metadata": {},
   "outputs": [],
   "source": [
    "# a = agent.ApproximateQAgent()\n",
    "# a = a.load(fname='12_03_v3_episode_900',inpath=Path('./output'))\n",
    "# a.numTraining = 10000"
   ]
  },
  {
   "cell_type": "code",
   "execution_count": 4,
   "metadata": {
    "tags": []
   },
   "outputs": [
    {
     "output_type": "stream",
     "name": "stdout",
     "text": [
      "Starting Training\n",
      "\n",
      "On Training Session: 5\n",
      "Total Running Time:  2.8484034538269043\n",
      "2020-12-06 16:39:03.747931\n",
      "Epsilon 0.899905133202974\n",
      "Saving model\n",
      "Saving agent to output\n",
      "\n",
      "On Training Session: 10\n",
      "Total Running Time:  5.733253717422485\n",
      "2020-12-06 16:39:06.631873\n",
      "Epsilon 0.8998101815064851\n",
      "Saving model\n",
      "Saving agent to output\n"
     ]
    }
   ],
   "source": [
    "a.train(save_prefix='TEST', moves_per_ep=100)"
   ]
  },
  {
   "cell_type": "code",
   "execution_count": 6,
   "metadata": {},
   "outputs": [
    {
     "output_type": "stream",
     "name": "stdout",
     "text": [
      "Loading agent from output\n"
     ]
    },
    {
     "output_type": "execute_result",
     "data": {
      "text/plain": [
       "<agent.ApproximateQAgent at 0x1af5f51d310>"
      ]
     },
     "metadata": {},
     "execution_count": 6
    }
   ],
   "source": [
    "a.load(fname='TEST_episode_10',inpath=Path('./output'))"
   ]
  },
  {
   "cell_type": "code",
   "execution_count": null,
   "metadata": {},
   "outputs": [],
   "source": []
  }
 ]
}