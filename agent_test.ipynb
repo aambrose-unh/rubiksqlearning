{
 "metadata": {
  "language_info": {
   "codemirror_mode": {
    "name": "ipython",
    "version": 3
   },
   "file_extension": ".py",
   "mimetype": "text/x-python",
   "name": "python",
   "nbconvert_exporter": "python",
   "pygments_lexer": "ipython3",
   "version": "3.9.0-final"
  },
  "orig_nbformat": 2,
  "kernelspec": {
   "name": "python3",
   "display_name": "Python 3"
  }
 },
 "nbformat": 4,
 "nbformat_minor": 2,
 "cells": [
  {
   "cell_type": "code",
   "execution_count": 19,
   "metadata": {},
   "outputs": [
    {
     "output_type": "execute_result",
     "data": {
      "text/plain": [
       "<module 'agent' from 'c:\\\\Users\\\\aambr\\\\OneDrive\\\\Documents\\\\UNH Fall 2019\\\\AI\\\\Final Project\\\\rubiksqlearning\\\\agent.py'>"
      ]
     },
     "metadata": {},
     "execution_count": 19
    }
   ],
   "source": [
    "import agent\n",
    "from importlib import reload \n",
    "import cube_sim\n",
    "reload(cube_sim)\n",
    "reload(agent)"
   ]
  },
  {
   "cell_type": "code",
   "execution_count": 20,
   "metadata": {},
   "outputs": [],
   "source": [
    "a = agent.ApproximateQAgent()"
   ]
  },
  {
   "cell_type": "code",
   "execution_count": 21,
   "metadata": {
    "tags": []
   },
   "outputs": [
    {
     "output_type": "stream",
     "name": "stdout",
     "text": [
      "On Training Session: 0\n",
      "On Training Move: 0\n",
      "\n",
      "\n",
      "[' ' ' '] ['b' 'w'] [' ' ' '] [' ' ' '] \n",
      "[' ' ' '] ['y' 'y'] [' ' ' '] [' ' ' '] \n",
      "\n",
      "['w' 'b'] ['b' 'b'] ['g' 'o'] ['g' 'w'] \n",
      "['r' 'o'] ['r' 'y'] ['r' 'o'] ['g' 'o'] \n",
      "\n",
      "[' ' ' '] ['w' 'r'] [' ' ' '] [' ' ' '] \n",
      "[' ' ' '] ['g' 'y'] [' ' ' '] [' ' ' '] Reward: -1\n",
      "Weights {'inv_avg_cpf': 0.1, 'one_color_faces': 0.1}\n",
      "On Training Move: 5000\n",
      "\n",
      "\n",
      "[' ' ' '] ['w' 'w'] [' ' ' '] [' ' ' '] \n",
      "[' ' ' '] ['b' 'r'] [' ' ' '] [' ' ' '] \n",
      "\n",
      "['o' 'o'] ['b' 'y'] ['b' 'o'] ['g' 'g'] \n",
      "['w' 'r'] ['b' 'g'] ['r' 'o'] ['g' 'r'] \n",
      "\n",
      "[' ' ' '] ['w' 'y'] [' ' ' '] [' ' ' '] \n",
      "[' ' ' '] ['y' 'y'] [' ' ' '] [' ' ' '] Reward: 0.3333333333333333\n",
      "Weights {'inv_avg_cpf': 0.08626178654794131, 'one_color_faces': 0.1}\n",
      "On Training Move: 10000\n",
      "\n",
      "\n",
      "[' ' ' '] ['w' 'w'] [' ' ' '] [' ' ' '] \n",
      "[' ' ' '] ['b' 'r'] [' ' ' '] [' ' ' '] \n",
      "\n",
      "['o' 'o'] ['b' 'y'] ['b' 'o'] ['g' 'g'] \n",
      "['w' 'r'] ['b' 'g'] ['r' 'o'] ['g' 'r'] \n",
      "\n",
      "[' ' ' '] ['w' 'y'] [' ' ' '] [' ' ' '] \n",
      "[' ' ' '] ['y' 'y'] [' ' ' '] [' ' ' '] Reward: 0.3529411764705882\n",
      "Weights {'inv_avg_cpf': 0.07517201895693056, 'one_color_faces': 0.1}\n",
      "On Training Move: 15000\n",
      "\n",
      "\n",
      "[' ' ' '] ['w' 'w'] [' ' ' '] [' ' ' '] \n",
      "[' ' ' '] ['b' 'r'] [' ' ' '] [' ' ' '] \n",
      "\n",
      "['o' 'o'] ['b' 'y'] ['b' 'o'] ['g' 'g'] \n",
      "['w' 'r'] ['b' 'g'] ['r' 'o'] ['g' 'r'] \n",
      "\n",
      "[' ' ' '] ['w' 'y'] [' ' ' '] [' ' ' '] \n",
      "[' ' ' '] ['y' 'y'] [' ' ' '] [' ' ' '] Reward: 0.3333333333333333\n",
      "Weights {'inv_avg_cpf': 0.06822037012448884, 'one_color_faces': 0.1}\n",
      "On Training Move: 20000\n",
      "\n",
      "\n",
      "[' ' ' '] ['w' 'w'] [' ' ' '] [' ' ' '] \n",
      "[' ' ' '] ['b' 'r'] [' ' ' '] [' ' ' '] \n",
      "\n",
      "['o' 'o'] ['b' 'y'] ['b' 'o'] ['g' 'g'] \n",
      "['w' 'r'] ['b' 'g'] ['r' 'o'] ['g' 'r'] \n",
      "\n",
      "[' ' ' '] ['w' 'y'] [' ' ' '] [' ' ' '] \n",
      "[' ' ' '] ['y' 'y'] [' ' ' '] [' ' ' '] Reward: 0.3333333333333333\n",
      "Weights {'inv_avg_cpf': 0.0641814437250661, 'one_color_faces': 0.1}\n",
      "On Training Move: 25000\n",
      "\n",
      "\n",
      "[' ' ' '] ['w' 'w'] [' ' ' '] [' ' ' '] \n",
      "[' ' ' '] ['b' 'r'] [' ' ' '] [' ' ' '] \n",
      "\n",
      "['o' 'o'] ['b' 'y'] ['b' 'o'] ['g' 'g'] \n",
      "['w' 'r'] ['b' 'g'] ['r' 'o'] ['g' 'r'] \n",
      "\n",
      "[' ' ' '] ['w' 'y'] [' ' ' '] [' ' ' '] \n",
      "[' ' ' '] ['y' 'y'] [' ' ' '] [' ' ' '] Reward: 0.3333333333333333\n",
      "Weights {'inv_avg_cpf': 0.06123630751484866, 'one_color_faces': 0.1}\n"
     ]
    },
    {
     "output_type": "error",
     "ename": "KeyboardInterrupt",
     "evalue": "",
     "traceback": [
      "\u001b[1;31m---------------------------------------------------------------------------\u001b[0m",
      "\u001b[1;31mKeyboardInterrupt\u001b[0m                         Traceback (most recent call last)",
      "\u001b[1;32m<ipython-input-21-bde7b6456197>\u001b[0m in \u001b[0;36m<module>\u001b[1;34m\u001b[0m\n\u001b[1;32m----> 1\u001b[1;33m \u001b[0ma\u001b[0m\u001b[1;33m.\u001b[0m\u001b[0mtrain\u001b[0m\u001b[1;33m(\u001b[0m\u001b[1;33m)\u001b[0m\u001b[1;33m\u001b[0m\u001b[1;33m\u001b[0m\u001b[0m\n\u001b[0m",
      "\u001b[1;32mc:\\Users\\aambr\\OneDrive\\Documents\\UNH Fall 2019\\AI\\Final Project\\rubiksqlearning\\agent.py\u001b[0m in \u001b[0;36mtrain\u001b[1;34m(self)\u001b[0m\n\u001b[0;32m    296\u001b[0m             \u001b[0mmove\u001b[0m \u001b[1;33m=\u001b[0m \u001b[1;36m0\u001b[0m\u001b[1;33m\u001b[0m\u001b[1;33m\u001b[0m\u001b[0m\n\u001b[0;32m    297\u001b[0m             \u001b[0mprev_score\u001b[0m \u001b[1;33m=\u001b[0m \u001b[1;33m-\u001b[0m\u001b[1;36m1\u001b[0m\u001b[1;33m\u001b[0m\u001b[1;33m\u001b[0m\u001b[0m\n\u001b[1;32m--> 298\u001b[1;33m             \u001b[1;32mwhile\u001b[0m \u001b[1;32mnot\u001b[0m \u001b[0mself\u001b[0m\u001b[1;33m.\u001b[0m\u001b[0misGoal\u001b[0m\u001b[1;33m(\u001b[0m\u001b[0mc\u001b[0m\u001b[1;33m)\u001b[0m\u001b[1;33m:\u001b[0m\u001b[1;33m\u001b[0m\u001b[1;33m\u001b[0m\u001b[0m\n\u001b[0m\u001b[0;32m    299\u001b[0m                 \u001b[1;32mif\u001b[0m \u001b[0mmove\u001b[0m \u001b[1;33m%\u001b[0m \u001b[1;36m5000\u001b[0m \u001b[1;33m==\u001b[0m \u001b[1;36m0\u001b[0m\u001b[1;33m:\u001b[0m\u001b[1;33m\u001b[0m\u001b[1;33m\u001b[0m\u001b[0m\n\u001b[0;32m    300\u001b[0m                     \u001b[0mprint\u001b[0m\u001b[1;33m(\u001b[0m\u001b[1;34m'On Training Move:'\u001b[0m\u001b[1;33m,\u001b[0m\u001b[0mmove\u001b[0m\u001b[1;33m)\u001b[0m\u001b[1;33m\u001b[0m\u001b[1;33m\u001b[0m\u001b[0m\n",
      "\u001b[1;32mc:\\Users\\aambr\\OneDrive\\Documents\\UNH Fall 2019\\AI\\Final Project\\rubiksqlearning\\agent.py\u001b[0m in \u001b[0;36misGoal\u001b[1;34m(self, state)\u001b[0m\n\u001b[0;32m    131\u001b[0m \u001b[1;33m\u001b[0m\u001b[0m\n\u001b[0;32m    132\u001b[0m     \u001b[1;32mdef\u001b[0m \u001b[0misGoal\u001b[0m\u001b[1;33m(\u001b[0m\u001b[0mself\u001b[0m\u001b[1;33m,\u001b[0m \u001b[0mstate\u001b[0m\u001b[1;33m)\u001b[0m\u001b[1;33m:\u001b[0m\u001b[1;33m\u001b[0m\u001b[1;33m\u001b[0m\u001b[0m\n\u001b[1;32m--> 133\u001b[1;33m         \u001b[1;32mif\u001b[0m \u001b[0mlen\u001b[0m\u001b[1;33m(\u001b[0m\u001b[0mself\u001b[0m\u001b[1;33m.\u001b[0m\u001b[0mgetActions\u001b[0m\u001b[1;33m(\u001b[0m\u001b[0mstate\u001b[0m\u001b[1;33m)\u001b[0m\u001b[1;33m)\u001b[0m \u001b[1;33m==\u001b[0m \u001b[1;36m0\u001b[0m\u001b[1;33m:\u001b[0m\u001b[1;33m\u001b[0m\u001b[1;33m\u001b[0m\u001b[0m\n\u001b[0m\u001b[0;32m    134\u001b[0m             \u001b[1;32mreturn\u001b[0m \u001b[1;32mTrue\u001b[0m\u001b[1;33m\u001b[0m\u001b[1;33m\u001b[0m\u001b[0m\n\u001b[0;32m    135\u001b[0m         \u001b[1;32mreturn\u001b[0m \u001b[1;32mFalse\u001b[0m\u001b[1;33m\u001b[0m\u001b[1;33m\u001b[0m\u001b[0m\n",
      "\u001b[1;32mc:\\Users\\aambr\\OneDrive\\Documents\\UNH Fall 2019\\AI\\Final Project\\rubiksqlearning\\agent.py\u001b[0m in \u001b[0;36mgetActions\u001b[1;34m(self, state)\u001b[0m\n\u001b[0;32m    136\u001b[0m \u001b[1;33m\u001b[0m\u001b[0m\n\u001b[0;32m    137\u001b[0m     \u001b[1;32mdef\u001b[0m \u001b[0mgetActions\u001b[0m\u001b[1;33m(\u001b[0m\u001b[0mself\u001b[0m\u001b[1;33m,\u001b[0m \u001b[0mstate\u001b[0m\u001b[1;33m)\u001b[0m\u001b[1;33m:\u001b[0m\u001b[1;33m\u001b[0m\u001b[1;33m\u001b[0m\u001b[0m\n\u001b[1;32m--> 138\u001b[1;33m         \u001b[0mfeat\u001b[0m \u001b[1;33m=\u001b[0m \u001b[0mstate\u001b[0m\u001b[1;33m.\u001b[0m\u001b[0mget_features\u001b[0m\u001b[1;33m(\u001b[0m\u001b[1;33m)\u001b[0m\u001b[1;33m\u001b[0m\u001b[1;33m\u001b[0m\u001b[0m\n\u001b[0m\u001b[0;32m    139\u001b[0m         \u001b[1;32mif\u001b[0m \u001b[0mfeat\u001b[0m\u001b[1;33m[\u001b[0m\u001b[1;34m'one_color_faces'\u001b[0m\u001b[1;33m]\u001b[0m \u001b[1;33m==\u001b[0m \u001b[1;36m1\u001b[0m\u001b[1;33m:\u001b[0m\u001b[1;33m\u001b[0m\u001b[1;33m\u001b[0m\u001b[0m\n\u001b[0;32m    140\u001b[0m             \u001b[1;32mreturn\u001b[0m \u001b[0mlist\u001b[0m\u001b[1;33m(\u001b[0m\u001b[1;33m)\u001b[0m\u001b[1;33m\u001b[0m\u001b[1;33m\u001b[0m\u001b[0m\n",
      "\u001b[1;32mc:\\Users\\aambr\\OneDrive\\Documents\\UNH Fall 2019\\AI\\Final Project\\rubiksqlearning\\cube_sim.py\u001b[0m in \u001b[0;36mget_features\u001b[1;34m(self)\u001b[0m\n\u001b[0;32m     48\u001b[0m         \u001b[1;32mfor\u001b[0m \u001b[0mface\u001b[0m \u001b[1;32min\u001b[0m \u001b[0mself\u001b[0m\u001b[1;33m.\u001b[0m\u001b[0mfaces\u001b[0m\u001b[1;33m:\u001b[0m\u001b[1;33m\u001b[0m\u001b[1;33m\u001b[0m\u001b[0m\n\u001b[0;32m     49\u001b[0m             \u001b[1;31m# calc colors per face\u001b[0m\u001b[1;33m\u001b[0m\u001b[1;33m\u001b[0m\u001b[1;33m\u001b[0m\u001b[0m\n\u001b[1;32m---> 50\u001b[1;33m             \u001b[0mnum_col\u001b[0m \u001b[1;33m=\u001b[0m \u001b[0mlen\u001b[0m\u001b[1;33m(\u001b[0m\u001b[0mnp\u001b[0m\u001b[1;33m.\u001b[0m\u001b[0munique\u001b[0m\u001b[1;33m(\u001b[0m\u001b[0mself\u001b[0m\u001b[1;33m.\u001b[0m\u001b[0mfaces\u001b[0m\u001b[1;33m[\u001b[0m\u001b[0mface\u001b[0m\u001b[1;33m]\u001b[0m\u001b[1;33m)\u001b[0m\u001b[1;33m)\u001b[0m\u001b[1;33m\u001b[0m\u001b[1;33m\u001b[0m\u001b[0m\n\u001b[0m\u001b[0;32m     51\u001b[0m             \u001b[0mtot_cpf\u001b[0m \u001b[1;33m+=\u001b[0m \u001b[0mnum_col\u001b[0m\u001b[1;33m\u001b[0m\u001b[1;33m\u001b[0m\u001b[0m\n\u001b[0;32m     52\u001b[0m             \u001b[1;31m# Add 1/color for that face to feature vector\u001b[0m\u001b[1;33m\u001b[0m\u001b[1;33m\u001b[0m\u001b[1;33m\u001b[0m\u001b[0m\n",
      "\u001b[1;32m<__array_function__ internals>\u001b[0m in \u001b[0;36munique\u001b[1;34m(*args, **kwargs)\u001b[0m\n",
      "\u001b[1;32m~\\.virtualenvs\\rubiks_cube-cHDp2hMf\\lib\\site-packages\\numpy\\lib\\arraysetops.py\u001b[0m in \u001b[0;36munique\u001b[1;34m(ar, return_index, return_inverse, return_counts, axis)\u001b[0m\n\u001b[0;32m    259\u001b[0m     \u001b[0mar\u001b[0m \u001b[1;33m=\u001b[0m \u001b[0mnp\u001b[0m\u001b[1;33m.\u001b[0m\u001b[0masanyarray\u001b[0m\u001b[1;33m(\u001b[0m\u001b[0mar\u001b[0m\u001b[1;33m)\u001b[0m\u001b[1;33m\u001b[0m\u001b[1;33m\u001b[0m\u001b[0m\n\u001b[0;32m    260\u001b[0m     \u001b[1;32mif\u001b[0m \u001b[0maxis\u001b[0m \u001b[1;32mis\u001b[0m \u001b[1;32mNone\u001b[0m\u001b[1;33m:\u001b[0m\u001b[1;33m\u001b[0m\u001b[1;33m\u001b[0m\u001b[0m\n\u001b[1;32m--> 261\u001b[1;33m         \u001b[0mret\u001b[0m \u001b[1;33m=\u001b[0m \u001b[0m_unique1d\u001b[0m\u001b[1;33m(\u001b[0m\u001b[0mar\u001b[0m\u001b[1;33m,\u001b[0m \u001b[0mreturn_index\u001b[0m\u001b[1;33m,\u001b[0m \u001b[0mreturn_inverse\u001b[0m\u001b[1;33m,\u001b[0m \u001b[0mreturn_counts\u001b[0m\u001b[1;33m)\u001b[0m\u001b[1;33m\u001b[0m\u001b[1;33m\u001b[0m\u001b[0m\n\u001b[0m\u001b[0;32m    262\u001b[0m         \u001b[1;32mreturn\u001b[0m \u001b[0m_unpack_tuple\u001b[0m\u001b[1;33m(\u001b[0m\u001b[0mret\u001b[0m\u001b[1;33m)\u001b[0m\u001b[1;33m\u001b[0m\u001b[1;33m\u001b[0m\u001b[0m\n\u001b[0;32m    263\u001b[0m \u001b[1;33m\u001b[0m\u001b[0m\n",
      "\u001b[1;32m~\\.virtualenvs\\rubiks_cube-cHDp2hMf\\lib\\site-packages\\numpy\\lib\\arraysetops.py\u001b[0m in \u001b[0;36m_unique1d\u001b[1;34m(ar, return_index, return_inverse, return_counts)\u001b[0m\n\u001b[0;32m    312\u001b[0m     \u001b[0mFind\u001b[0m \u001b[0mthe\u001b[0m \u001b[0munique\u001b[0m \u001b[0melements\u001b[0m \u001b[0mof\u001b[0m \u001b[0man\u001b[0m \u001b[0marray\u001b[0m\u001b[1;33m,\u001b[0m \u001b[0mignoring\u001b[0m \u001b[0mshape\u001b[0m\u001b[1;33m.\u001b[0m\u001b[1;33m\u001b[0m\u001b[1;33m\u001b[0m\u001b[0m\n\u001b[0;32m    313\u001b[0m     \"\"\"\n\u001b[1;32m--> 314\u001b[1;33m     \u001b[0mar\u001b[0m \u001b[1;33m=\u001b[0m \u001b[0mnp\u001b[0m\u001b[1;33m.\u001b[0m\u001b[0masanyarray\u001b[0m\u001b[1;33m(\u001b[0m\u001b[0mar\u001b[0m\u001b[1;33m)\u001b[0m\u001b[1;33m.\u001b[0m\u001b[0mflatten\u001b[0m\u001b[1;33m(\u001b[0m\u001b[1;33m)\u001b[0m\u001b[1;33m\u001b[0m\u001b[1;33m\u001b[0m\u001b[0m\n\u001b[0m\u001b[0;32m    315\u001b[0m \u001b[1;33m\u001b[0m\u001b[0m\n\u001b[0;32m    316\u001b[0m     \u001b[0moptional_indices\u001b[0m \u001b[1;33m=\u001b[0m \u001b[0mreturn_index\u001b[0m \u001b[1;32mor\u001b[0m \u001b[0mreturn_inverse\u001b[0m\u001b[1;33m\u001b[0m\u001b[1;33m\u001b[0m\u001b[0m\n",
      "\u001b[1;31mKeyboardInterrupt\u001b[0m: "
     ]
    }
   ],
   "source": [
    "a.train()"
   ]
  },
  {
   "cell_type": "code",
   "execution_count": null,
   "metadata": {},
   "outputs": [],
   "source": []
  }
 ]
}