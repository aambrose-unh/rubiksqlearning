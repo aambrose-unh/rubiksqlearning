{
 "metadata": {
  "language_info": {
   "codemirror_mode": {
    "name": "ipython",
    "version": 3
   },
   "file_extension": ".py",
   "mimetype": "text/x-python",
   "name": "python",
   "nbconvert_exporter": "python",
   "pygments_lexer": "ipython3",
   "version": "3.9.0-final"
  },
  "orig_nbformat": 2,
  "kernelspec": {
   "name": "python3",
   "display_name": "Python 3.9.0 64-bit ('rubiks_cube-cHDp2hMf': venv)",
   "metadata": {
    "interpreter": {
     "hash": "b727c74907aae9cec69ad5d3e3c2546a31ed33c1738a27a68eb3cc4b75500ea1"
    }
   }
  }
 },
 "nbformat": 4,
 "nbformat_minor": 2,
 "cells": [
  {
   "cell_type": "code",
   "execution_count": 26,
   "metadata": {},
   "outputs": [],
   "source": [
    "import numpy as np\n",
    "from importlib import reload \n",
    "import cube_sim\n",
    "reload(cube_sim)\n",
    "from cube_sim import *"
   ]
  },
  {
   "cell_type": "code",
   "execution_count": 27,
   "metadata": {},
   "outputs": [
    {
     "output_type": "stream",
     "name": "stdout",
     "text": [
      "\n\n[' ' ' '] ['w' 'w'] [' ' ' '] [' ' ' '] \n[' ' ' '] ['w' 'w'] [' ' ' '] [' ' ' '] \n\n['r' 'r'] ['b' 'b'] ['o' 'o'] ['g' 'g'] \n['r' 'r'] ['b' 'b'] ['o' 'o'] ['g' 'g'] \n\n[' ' ' '] ['y' 'y'] [' ' ' '] [' ' ' '] \n[' ' ' '] ['y' 'y'] [' ' ' '] [' ' ' '] "
     ]
    }
   ],
   "source": [
    "c = cube()\n",
    "c.showCube()"
   ]
  },
  {
   "cell_type": "code",
   "execution_count": 34,
   "metadata": {},
   "outputs": [
    {
     "output_type": "stream",
     "name": "stdout",
     "text": [
      "{'inv_cpf_front': 0.3333333333333333, 'inv_cpf_top': 0.3333333333333333, 'inv_cpf_bottom': 0.3333333333333333, 'inv_cpf_left': 0.5, 'inv_cpf_right': 0.5, 'inv_cpf_back': 0.3333333333333333, 'inv_avg_cpf': 0.375, 'one_color_faces': 0.0}\n"
     ]
    }
   ],
   "source": [
    "print(c.get_features())"
   ]
  },
  {
   "cell_type": "code",
   "execution_count": 32,
   "metadata": {},
   "outputs": [
    {
     "output_type": "execute_result",
     "data": {
      "text/plain": [
       "[<bound method cube.clockwise of <cube_sim.cube object at 0x000002927FD549D0>>,\n",
       " <bound method cube.counterclockwise of <cube_sim.cube object at 0x000002927FD549D0>>,\n",
       " <bound method cube.forward of <cube_sim.cube object at 0x000002927FD549D0>>,\n",
       " <bound method cube.backward of <cube_sim.cube object at 0x000002927FD549D0>>]"
      ]
     },
     "metadata": {},
     "execution_count": 32
    }
   ],
   "source": [
    "c.getActions()"
   ]
  },
  {
   "cell_type": "code",
   "execution_count": 31,
   "metadata": {},
   "outputs": [
    {
     "output_type": "stream",
     "name": "stdout",
     "text": [
      "\n\n[' ' ' '] ['b' 'w'] [' ' ' '] [' ' ' '] \n[' ' ' '] ['b' 'y'] [' ' ' '] [' ' ' '] \n\n['o' 'o'] ['w' 'b'] ['r' 'o'] ['g' 'w'] \n['r' 'r'] ['y' 'b'] ['r' 'o'] ['g' 'y'] \n\n[' ' ' '] ['g' 'w'] [' ' ' '] [' ' ' '] \n[' ' ' '] ['g' 'y'] [' ' ' '] [' ' ' '] "
     ]
    }
   ],
   "source": [
    "c.randomize()\n",
    "c.showCube()"
   ]
  },
  {
   "cell_type": "code",
   "execution_count": null,
   "metadata": {},
   "outputs": [],
   "source": [
    "print(c.get_features())"
   ]
  },
  {
   "cell_type": "code",
   "execution_count": null,
   "metadata": {},
   "outputs": [],
   "source": [
    "c.getActions()"
   ]
  },
  {
   "cell_type": "code",
   "execution_count": 5,
   "metadata": {},
   "outputs": [
    {
     "output_type": "stream",
     "name": "stdout",
     "text": [
      "\n\n[' ' ' '] ['w' 'w'] [' ' ' '] [' ' ' '] \n[' ' ' '] ['r' 'r'] [' ' ' '] [' ' ' '] \n\n['r' 'y'] ['b' 'b'] ['w' 'o'] ['g' 'g'] \n['r' 'y'] ['b' 'b'] ['w' 'o'] ['g' 'g'] \n\n[' ' ' '] ['o' 'o'] [' ' ' '] [' ' ' '] \n[' ' ' '] ['y' 'y'] [' ' ' '] [' ' ' '] "
     ]
    }
   ],
   "source": [
    "c.clockwise()\n",
    "c.showCube()"
   ]
  },
  {
   "cell_type": "code",
   "execution_count": 292,
   "metadata": {},
   "outputs": [
    {
     "output_type": "stream",
     "name": "stdout",
     "text": [
      "\n\n[' ' ' '] ['w' 'w'] [' ' ' '] [' ' ' '] \n[' ' ' '] ['w' 'w'] [' ' ' '] [' ' ' '] \n\n['r' 'r'] ['b' 'b'] ['o' 'o'] ['g' 'g'] \n['r' 'r'] ['b' 'b'] ['o' 'o'] ['g' 'g'] \n\n[' ' ' '] ['y' 'y'] [' ' ' '] [' ' ' '] \n[' ' ' '] ['y' 'y'] [' ' ' '] [' ' ' '] "
     ]
    }
   ],
   "source": [
    "c.counterclockwise()\n",
    "c.showCube()"
   ]
  },
  {
   "cell_type": "code",
   "execution_count": 279,
   "metadata": {},
   "outputs": [
    {
     "output_type": "stream",
     "name": "stdout",
     "text": [
      "\n\n[' ' ' '] ['g' 'w'] [' ' ' '] [' ' ' '] \n[' ' ' '] ['g' 'o'] [' ' ' '] [' ' ' '] \n\n['r' 'r'] ['w' 'b'] ['y' 'o'] ['g' 'y'] \n['r' 'r'] ['w' 'b'] ['y' 'o'] ['g' 'y'] \n\n[' ' ' '] ['b' 'r'] [' ' ' '] [' ' ' '] \n[' ' ' '] ['b' 'y'] [' ' ' '] [' ' ' '] "
     ]
    }
   ],
   "source": [
    "c.forward()\n",
    "c.showCube()"
   ]
  },
  {
   "cell_type": "code",
   "execution_count": 245,
   "metadata": {},
   "outputs": [
    {
     "output_type": "stream",
     "name": "stdout",
     "text": [
      "\n\n[' ' ' '] ['b' 'w'] [' ' ' '] [' ' ' '] \n[' ' ' '] ['b' 'o'] [' ' ' '] [' ' ' '] \n\n['r' 'r'] ['y' 'b'] ['y' 'o'] ['g' 'w'] \n['r' 'r'] ['y' 'b'] ['y' 'o'] ['g' 'w'] \n\n[' ' ' '] ['g' 'r'] [' ' ' '] [' ' ' '] \n[' ' ' '] ['g' 'y'] [' ' ' '] [' ' ' '] "
     ]
    }
   ],
   "source": [
    "c.backward()\n",
    "c.showCube()"
   ]
  },
  {
   "cell_type": "code",
   "execution_count": null,
   "metadata": {},
   "outputs": [],
   "source": []
  },
  {
   "cell_type": "code",
   "execution_count": null,
   "metadata": {},
   "outputs": [],
   "source": []
  },
  {
   "cell_type": "code",
   "execution_count": null,
   "metadata": {},
   "outputs": [],
   "source": []
  },
  {
   "cell_type": "code",
   "execution_count": null,
   "metadata": {},
   "outputs": [],
   "source": []
  },
  {
   "cell_type": "code",
   "execution_count": 27,
   "metadata": {},
   "outputs": [],
   "source": [
    "t[0,1] = np.array((2*['b'],2*['b']))"
   ]
  },
  {
   "cell_type": "code",
   "execution_count": 28,
   "metadata": {},
   "outputs": [
    {
     "output_type": "execute_result",
     "data": {
      "text/plain": [
       "array([[[['/', '/'],\n",
       "         ['/', '/']],\n",
       "\n",
       "        [['b', 'b'],\n",
       "         ['b', 'b']],\n",
       "\n",
       "        [['/', '/'],\n",
       "         ['/', '/']],\n",
       "\n",
       "        [['/', '/'],\n",
       "         ['/', '/']]],\n",
       "\n",
       "\n",
       "       [[['/', '/'],\n",
       "         ['/', '/']],\n",
       "\n",
       "        [['/', '/'],\n",
       "         ['/', '/']],\n",
       "\n",
       "        [['/', '/'],\n",
       "         ['/', '/']],\n",
       "\n",
       "        [['/', '/'],\n",
       "         ['/', '/']]],\n",
       "\n",
       "\n",
       "       [[['/', '/'],\n",
       "         ['/', '/']],\n",
       "\n",
       "        [['/', '/'],\n",
       "         ['/', '/']],\n",
       "\n",
       "        [['/', '/'],\n",
       "         ['/', '/']],\n",
       "\n",
       "        [['/', '/'],\n",
       "         ['/', '/']]]], dtype='<U1')"
      ]
     },
     "metadata": {},
     "execution_count": 28
    }
   ],
   "source": [
    "t"
   ]
  },
  {
   "cell_type": "code",
   "execution_count": 73,
   "metadata": {},
   "outputs": [],
   "source": [
    "def showCube(cube):\n",
    "    def printRow(row):\n",
    "        for i in row:\n",
    "            print(i[0,:],end=' ')\n",
    "        print('')\n",
    "        for i in row:\n",
    "            print(i[1,:],end=' ')\n",
    "    for row in range(len(cube)):\n",
    "        print(\"\\nRow\",row)\n",
    "        printRow(cube[row])\n",
    "\n",
    "    # print([block for block in cube[0]])\n",
    "    # print(cube[1])\n",
    "    # print(cube[2])"
   ]
  },
  {
   "cell_type": "code",
   "execution_count": 74,
   "metadata": {},
   "outputs": [
    {
     "output_type": "stream",
     "name": "stdout",
     "text": [
      "\nRow 0\n['/' '/'] ['b' 'b'] ['/' '/'] ['/' '/'] \n['/' '/'] ['b' 'b'] ['/' '/'] ['/' '/'] \nRow 1\n['/' '/'] ['/' '/'] ['/' '/'] ['/' '/'] \n['/' '/'] ['/' '/'] ['/' '/'] ['/' '/'] \nRow 2\n['/' '/'] ['/' '/'] ['/' '/'] ['/' '/'] \n['/' '/'] ['/' '/'] ['/' '/'] ['/' '/'] "
     ]
    }
   ],
   "source": [
    "showCube(t)"
   ]
  },
  {
   "cell_type": "code",
   "execution_count": null,
   "metadata": {},
   "outputs": [],
   "source": []
  }
 ]
}