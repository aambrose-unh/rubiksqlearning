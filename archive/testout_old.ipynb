{
 "metadata": {
  "language_info": {
   "codemirror_mode": {
    "name": "ipython",
    "version": 3
   },
   "file_extension": ".py",
   "mimetype": "text/x-python",
   "name": "python",
   "nbconvert_exporter": "python",
   "pygments_lexer": "ipython3",
   "version": "3.9.0-final"
  },
  "orig_nbformat": 2,
  "kernelspec": {
   "name": "python3",
   "display_name": "Python 3.9.0 64-bit",
   "metadata": {
    "interpreter": {
     "hash": "c50af8b217dde756b95a1000738ae7a39337db2a48ac606f6954452d7605b457"
    }
   }
  }
 },
 "nbformat": 4,
 "nbformat_minor": 2,
 "cells": [
  {
   "cell_type": "code",
   "execution_count": 25,
   "metadata": {},
   "outputs": [],
   "source": [
    "import copy\n",
    "def clockwise(array):\n",
    "        # Only 2x2 so only need to operate on front face. This is\n",
    "        # equivalent to doing the opposite rotation on the back face.\n",
    "\n",
    "        # Copy array\n",
    "        new_array = copy.deepcopy(array)\n",
    "\n",
    "        # Rotate outer\n",
    "        # Rotate 1,0 to 0,1\n",
    "        new_array[0][1][1][1] = array[1][0][0][1]\n",
    "        new_array[0][1][1][0] = array[1][0][1][1]\n",
    "        # Rotate 0,1 to 1,2\n",
    "        new_array[1][2][0][0] = array[0][1][1][0]\n",
    "        new_array[1][2][1][0] = array[0][1][1][1]\n",
    "        # Rotate 1,2 to 2,1\n",
    "        new_array[2][1][0][1] = array[1][2][0][0]\n",
    "        new_array[2][1][0][0] = array[1][2][1][0]\n",
    "        # Rotate 1,2 to 2,1\n",
    "        new_array[1][0][1][1] = array[2][1][0][1]\n",
    "        new_array[1][0][0][1] = array[2][1][0][0]\n",
    "\n",
    "        # Rotate main face\n",
    "        new_array[1][1][0][1] = array[1][1][0][0]\n",
    "        new_array[1][1][1][1] = array[1][1][0][1]\n",
    "        new_array[1][1][1][0] = array[1][1][1][1]\n",
    "        new_array[1][1][0][0] = array[1][1][1][0]\n",
    "\n",
    "        return new_array"
   ]
  },
  {
   "cell_type": "code",
   "execution_count": 26,
   "metadata": {},
   "outputs": [],
   "source": [
    "t = [\n",
    "    [\n",
    "        [[0,0],\n",
    "        [0,0]],\n",
    "        [['r1','r2'],\n",
    "        ['r3','r4']],\n",
    "        [[0,0],\n",
    "        [0,0]],\n",
    "        [[0,0],\n",
    "        [0,0]]\n",
    "        ],\n",
    "    [\n",
    "        [[0,0],\n",
    "        [0,0]],\n",
    "        [[0,0],\n",
    "        [0,0]],\n",
    "        [[0,0],\n",
    "        [0,0]],\n",
    "        [[0,0],\n",
    "        [0,0]]\n",
    "        ],\n",
    "    [\n",
    "        [[0,0],\n",
    "        [0,0]],\n",
    "        [[0,0],\n",
    "        [0,0]],\n",
    "        [[0,0],\n",
    "        [0,0]],\n",
    "        [[0,0],\n",
    "        [0,0]]\n",
    "        ]\n",
    "        ]"
   ]
  },
  {
   "cell_type": "code",
   "execution_count": 27,
   "metadata": {},
   "outputs": [],
   "source": [
    "# len(t[0][0][0][0])"
   ]
  },
  {
   "cell_type": "code",
   "execution_count": 28,
   "metadata": {},
   "outputs": [
    {
     "output_type": "execute_result",
     "data": {
      "text/plain": [
       "[[[[0, 0], [0, 0]],\n",
       "  [['r1', 'r2'], [0, 0]],\n",
       "  [[0, 0], [0, 0]],\n",
       "  [[0, 0], [0, 0]]],\n",
       " [[[0, 0], [0, 0]],\n",
       "  [[0, 0], [0, 0]],\n",
       "  [['r3', 0], ['r4', 0]],\n",
       "  [[0, 0], [0, 0]]],\n",
       " [[[0, 0], [0, 0]], [[0, 0], [0, 0]], [[0, 0], [0, 0]], [[0, 0], [0, 0]]]]"
      ]
     },
     "metadata": {},
     "execution_count": 28
    }
   ],
   "source": [
    "clockwise(t)"
   ]
  },
  {
   "cell_type": "code",
   "execution_count": null,
   "metadata": {},
   "outputs": [],
   "source": []
  }
 ]
}