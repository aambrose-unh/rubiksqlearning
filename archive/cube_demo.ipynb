{
 "metadata": {
  "language_info": {
   "codemirror_mode": {
    "name": "ipython",
    "version": 3
   },
   "file_extension": ".py",
   "mimetype": "text/x-python",
   "name": "python",
   "nbconvert_exporter": "python",
   "pygments_lexer": "ipython3",
   "version": "3.9.0-final"
  },
  "orig_nbformat": 2,
  "kernelspec": {
   "name": "python3",
   "display_name": "Python 3"
  }
 },
 "nbformat": 4,
 "nbformat_minor": 2,
 "cells": [
  {
   "cell_type": "code",
   "execution_count": 1,
   "metadata": {},
   "outputs": [],
   "source": [
    "import cube_sim"
   ]
  },
  {
   "cell_type": "code",
   "execution_count": 2,
   "metadata": {},
   "outputs": [],
   "source": [
    "demo_cube = cube_sim.cube()"
   ]
  },
  {
   "cell_type": "code",
   "execution_count": 3,
   "metadata": {},
   "outputs": [
    {
     "output_type": "stream",
     "name": "stdout",
     "text": [
      "\n\n[' ' ' '] ['w' 'w'] [' ' ' '] [' ' ' '] \n[' ' ' '] ['w' 'w'] [' ' ' '] [' ' ' '] \n\n['r' 'r'] ['b' 'b'] ['o' 'o'] ['g' 'g'] \n['r' 'r'] ['b' 'b'] ['o' 'o'] ['g' 'g'] \n\n[' ' ' '] ['y' 'y'] [' ' ' '] [' ' ' '] \n[' ' ' '] ['y' 'y'] [' ' ' '] [' ' ' '] "
     ]
    }
   ],
   "source": [
    "demo_cube.showCube()"
   ]
  },
  {
   "cell_type": "code",
   "execution_count": 4,
   "metadata": {},
   "outputs": [
    {
     "output_type": "execute_result",
     "data": {
      "text/plain": [
       "{'front': array([['b', 'b'],\n",
       "        ['b', 'b']], dtype='<U1'),\n",
       " 'top': array([['w', 'w'],\n",
       "        ['w', 'w']], dtype='<U1'),\n",
       " 'bottom': array([['y', 'y'],\n",
       "        ['y', 'y']], dtype='<U1'),\n",
       " 'left': array([['r', 'r'],\n",
       "        ['r', 'r']], dtype='<U1'),\n",
       " 'right': array([['o', 'o'],\n",
       "        ['o', 'o']], dtype='<U1'),\n",
       " 'back': array([['g', 'g'],\n",
       "        ['g', 'g']], dtype='<U1')}"
      ]
     },
     "metadata": {},
     "execution_count": 4
    }
   ],
   "source": [
    "demo_cube.faces"
   ]
  },
  {
   "cell_type": "code",
   "execution_count": 12,
   "metadata": {},
   "outputs": [
    {
     "output_type": "execute_result",
     "data": {
      "text/plain": [
       "array([['g', 'w'],\n",
       "       ['b', 'b']], dtype='<U1')"
      ]
     },
     "metadata": {},
     "execution_count": 12
    }
   ],
   "source": [
    "demo_cube.front"
   ]
  },
  {
   "cell_type": "code",
   "execution_count": 15,
   "metadata": {},
   "outputs": [
    {
     "output_type": "execute_result",
     "data": {
      "text/plain": [
       "[<function cube_sim.cube.clockwise(self)>,\n",
       " <function cube_sim.cube.counterclockwise(self)>,\n",
       " <function cube_sim.cube.forward(self)>,\n",
       " <function cube_sim.cube.backward(self)>,\n",
       " <function cube_sim.cube.toLeft(self)>,\n",
       " <function cube_sim.cube.toRight(self)>]"
      ]
     },
     "metadata": {},
     "execution_count": 15
    }
   ],
   "source": [
    "demo_cube.al"
   ]
  },
  {
   "cell_type": "code",
   "execution_count": 5,
   "metadata": {},
   "outputs": [
    {
     "output_type": "stream",
     "name": "stdout",
     "text": [
      "\n\n[' ' ' '] ['w' 'w'] [' ' ' '] [' ' ' '] \n[' ' ' '] ['r' 'r'] [' ' ' '] [' ' ' '] \n\n['r' 'y'] ['b' 'b'] ['w' 'o'] ['g' 'g'] \n['r' 'y'] ['b' 'b'] ['w' 'o'] ['g' 'g'] \n\n[' ' ' '] ['o' 'o'] [' ' ' '] [' ' ' '] \n[' ' ' '] ['y' 'y'] [' ' ' '] [' ' ' '] "
     ]
    }
   ],
   "source": [
    "demo_cube.clockwise()\n",
    "demo_cube.showCube()"
   ]
  },
  {
   "cell_type": "code",
   "execution_count": 6,
   "metadata": {},
   "outputs": [
    {
     "output_type": "stream",
     "name": "stdout",
     "text": [
      "\n\n[' ' ' '] ['w' 'w'] [' ' ' '] [' ' ' '] \n[' ' ' '] ['w' 'w'] [' ' ' '] [' ' ' '] \n\n['r' 'r'] ['b' 'b'] ['o' 'o'] ['g' 'g'] \n['r' 'r'] ['b' 'b'] ['o' 'o'] ['g' 'g'] \n\n[' ' ' '] ['y' 'y'] [' ' ' '] [' ' ' '] \n[' ' ' '] ['y' 'y'] [' ' ' '] [' ' ' '] "
     ]
    }
   ],
   "source": [
    "demo_cube.counterclockwise()\n",
    "demo_cube.showCube()"
   ]
  },
  {
   "cell_type": "code",
   "execution_count": 7,
   "metadata": {},
   "outputs": [
    {
     "output_type": "stream",
     "name": "stdout",
     "text": [
      "\n\n[' ' ' '] ['g' 'w'] [' ' ' '] [' ' ' '] \n[' ' ' '] ['g' 'w'] [' ' ' '] [' ' ' '] \n\n['r' 'r'] ['w' 'b'] ['o' 'o'] ['g' 'y'] \n['r' 'r'] ['w' 'b'] ['o' 'o'] ['g' 'y'] \n\n[' ' ' '] ['b' 'y'] [' ' ' '] [' ' ' '] \n[' ' ' '] ['b' 'y'] [' ' ' '] [' ' ' '] "
     ]
    }
   ],
   "source": [
    "demo_cube.forward()\n",
    "demo_cube.showCube()"
   ]
  },
  {
   "cell_type": "code",
   "execution_count": 8,
   "metadata": {},
   "outputs": [
    {
     "output_type": "stream",
     "name": "stdout",
     "text": [
      "\n\n[' ' ' '] ['w' 'w'] [' ' ' '] [' ' ' '] \n[' ' ' '] ['w' 'w'] [' ' ' '] [' ' ' '] \n\n['r' 'r'] ['b' 'b'] ['o' 'o'] ['g' 'g'] \n['r' 'r'] ['b' 'b'] ['o' 'o'] ['g' 'g'] \n\n[' ' ' '] ['y' 'y'] [' ' ' '] [' ' ' '] \n[' ' ' '] ['y' 'y'] [' ' ' '] [' ' ' '] "
     ]
    }
   ],
   "source": [
    "demo_cube.backward()\n",
    "demo_cube.showCube()"
   ]
  },
  {
   "cell_type": "code",
   "execution_count": 9,
   "metadata": {},
   "outputs": [
    {
     "output_type": "stream",
     "name": "stdout",
     "text": [
      "\n\n[' ' ' '] ['w' 'w'] [' ' ' '] [' ' ' '] \n[' ' ' '] ['w' 'w'] [' ' ' '] [' ' ' '] \n\n['b' 'b'] ['o' 'o'] ['g' 'g'] ['r' 'r'] \n['r' 'r'] ['b' 'b'] ['o' 'o'] ['g' 'g'] \n\n[' ' ' '] ['y' 'y'] [' ' ' '] [' ' ' '] \n[' ' ' '] ['y' 'y'] [' ' ' '] [' ' ' '] "
     ]
    }
   ],
   "source": [
    "demo_cube.toLeft()\n",
    "demo_cube.showCube()"
   ]
  },
  {
   "cell_type": "code",
   "execution_count": 10,
   "metadata": {},
   "outputs": [
    {
     "output_type": "stream",
     "name": "stdout",
     "text": [
      "\n\n[' ' ' '] ['w' 'w'] [' ' ' '] [' ' ' '] \n[' ' ' '] ['w' 'w'] [' ' ' '] [' ' ' '] \n\n['r' 'r'] ['b' 'b'] ['o' 'o'] ['g' 'g'] \n['r' 'r'] ['b' 'b'] ['o' 'o'] ['g' 'g'] \n\n[' ' ' '] ['y' 'y'] [' ' ' '] [' ' ' '] \n[' ' ' '] ['y' 'y'] [' ' ' '] [' ' ' '] "
     ]
    }
   ],
   "source": [
    "demo_cube.toRight()\n",
    "demo_cube.showCube()"
   ]
  },
  {
   "cell_type": "code",
   "execution_count": 11,
   "metadata": {},
   "outputs": [
    {
     "output_type": "stream",
     "name": "stdout",
     "text": [
      "\n\n[' ' ' '] ['o' 'y'] [' ' ' '] [' ' ' '] \n[' ' ' '] ['r' 'b'] [' ' ' '] [' ' ' '] \n\n['w' 'w'] ['g' 'w'] ['r' 'b'] ['r' 'g'] \n['g' 'y'] ['b' 'b'] ['w' 'o'] ['g' 'y'] \n\n[' ' ' '] ['o' 'o'] [' ' ' '] [' ' ' '] \n[' ' ' '] ['r' 'y'] [' ' ' '] [' ' ' '] "
     ]
    }
   ],
   "source": [
    "demo_cube.randomize(num_actions=15)\n",
    "demo_cube.showCube()"
   ]
  },
  {
   "cell_type": "code",
   "execution_count": null,
   "metadata": {},
   "outputs": [],
   "source": []
  },
  {
   "cell_type": "code",
   "execution_count": 53,
   "metadata": {},
   "outputs": [
    {
     "output_type": "execute_result",
     "data": {
      "text/plain": [
       "{'p_0_cw': 0, 'p_0_ccw': 0, 'p_0_f': 0, 'p_0_b': 0, 'p_0_l': 0, 'p_0_r': 0}"
      ]
     },
     "metadata": {},
     "execution_count": 53
    }
   ],
   "source": [
    "# [f'p_{i}_{m}'for i in range(6) for m in ['cw','ccw','f','b','l','r']]\n",
    "dict(zip([f'p_{i}_{m}'for i in range(6) for m in ['cw','ccw','f','b','l','r']],[0]*6))"
   ]
  },
  {
   "cell_type": "code",
   "execution_count": 105,
   "metadata": {},
   "outputs": [],
   "source": [
    "t = dict(zip([f'p_{i}_{m}'for i in range(6,0,-1) for m in ['cw','ccw','f','b','l','r']],[.1]*6*6))"
   ]
  },
  {
   "cell_type": "code",
   "execution_count": 106,
   "metadata": {},
   "outputs": [
    {
     "output_type": "execute_result",
     "data": {
      "text/plain": [
       "{'p_6_cw': 0.1,\n",
       " 'p_6_ccw': 0.1,\n",
       " 'p_6_f': 0.1,\n",
       " 'p_6_b': 0.1,\n",
       " 'p_6_l': 0.1,\n",
       " 'p_6_r': 0.1,\n",
       " 'p_5_cw': 0.1,\n",
       " 'p_5_ccw': 0.1,\n",
       " 'p_5_f': 0.1,\n",
       " 'p_5_b': 0.1,\n",
       " 'p_5_l': 0.1,\n",
       " 'p_5_r': 0.1,\n",
       " 'p_4_cw': 0.1,\n",
       " 'p_4_ccw': 0.1,\n",
       " 'p_4_f': 0.1,\n",
       " 'p_4_b': 0.1,\n",
       " 'p_4_l': 0.1,\n",
       " 'p_4_r': 0.1,\n",
       " 'p_3_cw': 0.1,\n",
       " 'p_3_ccw': 0.1,\n",
       " 'p_3_f': 0.1,\n",
       " 'p_3_b': 0.1,\n",
       " 'p_3_l': 0.1,\n",
       " 'p_3_r': 0.1,\n",
       " 'p_2_cw': 0.1,\n",
       " 'p_2_ccw': 0.1,\n",
       " 'p_2_f': 0.1,\n",
       " 'p_2_b': 0.1,\n",
       " 'p_2_l': 0.1,\n",
       " 'p_2_r': 0.1,\n",
       " 'p_1_cw': 0.1,\n",
       " 'p_1_ccw': 0.1,\n",
       " 'p_1_f': 0.1,\n",
       " 'p_1_b': 0.1,\n",
       " 'p_1_l': 0.1,\n",
       " 'p_1_r': 0.1}"
      ]
     },
     "metadata": {},
     "execution_count": 106
    }
   ],
   "source": [
    "t"
   ]
  },
  {
   "cell_type": "code",
   "execution_count": 97,
   "metadata": {},
   "outputs": [
    {
     "output_type": "execute_result",
     "data": {
      "text/plain": [
       "{'p_0_cw': <function cube_sim.cube.clockwise(self)>,\n",
       " 'p_0_ccw': <function cube_sim.cube.counterclockwise(self)>,\n",
       " 'p_0_f': <function cube_sim.cube.forward(self)>,\n",
       " 'p_0_b': <function cube_sim.cube.backward(self)>,\n",
       " 'p_0_l': <function cube_sim.cube.toLeft(self)>,\n",
       " 'p_0_r': <function cube_sim.cube.toRight(self)>,\n",
       " 'p_1_cw': <function cube_sim.cube.clockwise(self)>,\n",
       " 'p_1_ccw': <function cube_sim.cube.counterclockwise(self)>,\n",
       " 'p_1_f': <function cube_sim.cube.forward(self)>,\n",
       " 'p_1_b': <function cube_sim.cube.backward(self)>,\n",
       " 'p_1_l': <function cube_sim.cube.toLeft(self)>,\n",
       " 'p_1_r': <function cube_sim.cube.toRight(self)>,\n",
       " 'p_2_cw': <function cube_sim.cube.clockwise(self)>,\n",
       " 'p_2_ccw': <function cube_sim.cube.counterclockwise(self)>,\n",
       " 'p_2_f': <function cube_sim.cube.forward(self)>,\n",
       " 'p_2_b': <function cube_sim.cube.backward(self)>,\n",
       " 'p_2_l': <function cube_sim.cube.toLeft(self)>,\n",
       " 'p_2_r': <function cube_sim.cube.toRight(self)>,\n",
       " 'p_3_cw': <function cube_sim.cube.clockwise(self)>,\n",
       " 'p_3_ccw': <function cube_sim.cube.counterclockwise(self)>,\n",
       " 'p_3_f': <function cube_sim.cube.forward(self)>,\n",
       " 'p_3_b': <function cube_sim.cube.backward(self)>,\n",
       " 'p_3_l': <function cube_sim.cube.toLeft(self)>,\n",
       " 'p_3_r': <function cube_sim.cube.toRight(self)>,\n",
       " 'p_4_cw': <function cube_sim.cube.clockwise(self)>,\n",
       " 'p_4_ccw': <function cube_sim.cube.counterclockwise(self)>,\n",
       " 'p_4_f': <function cube_sim.cube.forward(self)>,\n",
       " 'p_4_b': <function cube_sim.cube.backward(self)>,\n",
       " 'p_4_l': <function cube_sim.cube.toLeft(self)>,\n",
       " 'p_4_r': <function cube_sim.cube.toRight(self)>,\n",
       " 'p_5_cw': <function cube_sim.cube.clockwise(self)>,\n",
       " 'p_5_ccw': <function cube_sim.cube.counterclockwise(self)>,\n",
       " 'p_5_f': <function cube_sim.cube.forward(self)>,\n",
       " 'p_5_b': <function cube_sim.cube.backward(self)>,\n",
       " 'p_5_l': <function cube_sim.cube.toLeft(self)>,\n",
       " 'p_5_r': <function cube_sim.cube.toRight(self)>}"
      ]
     },
     "metadata": {},
     "execution_count": 97
    }
   ],
   "source": [
    "dict(zip(t,demo_cube.al*6))"
   ]
  },
  {
   "cell_type": "code",
   "execution_count": 73,
   "metadata": {},
   "outputs": [],
   "source": [
    "moves = [0]*36"
   ]
  },
  {
   "cell_type": "code",
   "execution_count": 92,
   "metadata": {},
   "outputs": [
    {
     "output_type": "execute_result",
     "data": {
      "text/plain": [
       "[6, 5, 4, 3, 2, 1]"
      ]
     },
     "metadata": {},
     "execution_count": 92
    }
   ],
   "source": [
    "list(range(6,0,-1))"
   ]
  },
  {
   "cell_type": "code",
   "execution_count": 84,
   "metadata": {},
   "outputs": [],
   "source": [
    "ac = demo_cube.al[3]"
   ]
  },
  {
   "cell_type": "code",
   "execution_count": 85,
   "metadata": {},
   "outputs": [],
   "source": [
    "newmove = demo_cube.al.index(ac)"
   ]
  },
  {
   "cell_type": "code",
   "execution_count": 86,
   "metadata": {},
   "outputs": [
    {
     "output_type": "stream",
     "name": "stdout",
     "text": [
      "<function cube.backward at 0x000001E4EE074280>\n3\n"
     ]
    }
   ],
   "source": [
    "print(ac)\n",
    "print(newmove)"
   ]
  },
  {
   "cell_type": "code",
   "execution_count": 87,
   "metadata": {},
   "outputs": [],
   "source": [
    "toadd = [0]*6\n",
    "toadd[newmove] = 1"
   ]
  },
  {
   "cell_type": "code",
   "execution_count": 88,
   "metadata": {},
   "outputs": [],
   "source": [
    "moves.extend(toadd)"
   ]
  },
  {
   "cell_type": "code",
   "execution_count": 89,
   "metadata": {},
   "outputs": [],
   "source": [
    "moves = moves[6:]"
   ]
  },
  {
   "cell_type": "code",
   "execution_count": 90,
   "metadata": {},
   "outputs": [
    {
     "output_type": "execute_result",
     "data": {
      "text/plain": [
       "[0,\n",
       " 0,\n",
       " 0,\n",
       " 0,\n",
       " 0,\n",
       " 0,\n",
       " 0,\n",
       " 0,\n",
       " 0,\n",
       " 0,\n",
       " 0,\n",
       " 0,\n",
       " 0,\n",
       " 0,\n",
       " 0,\n",
       " 0,\n",
       " 0,\n",
       " 0,\n",
       " 0,\n",
       " 0,\n",
       " 0,\n",
       " 0,\n",
       " 0,\n",
       " 0,\n",
       " 1,\n",
       " 0,\n",
       " 0,\n",
       " 0,\n",
       " 0,\n",
       " 0,\n",
       " 0,\n",
       " 0,\n",
       " 0,\n",
       " 1,\n",
       " 0,\n",
       " 0]"
      ]
     },
     "metadata": {},
     "execution_count": 90
    }
   ],
   "source": [
    "moves"
   ]
  },
  {
   "cell_type": "code",
   "execution_count": 72,
   "metadata": {},
   "outputs": [
    {
     "output_type": "execute_result",
     "data": {
      "text/plain": [
       "37"
      ]
     },
     "metadata": {},
     "execution_count": 72
    }
   ],
   "source": [
    "len(moves)"
   ]
  },
  {
   "cell_type": "code",
   "execution_count": 98,
   "metadata": {},
   "outputs": [
    {
     "output_type": "stream",
     "name": "stdout",
     "text": [
      "p_0_cw 0\np_0_ccw 1\np_0_f 2\np_0_b 3\np_0_l 4\np_0_r 5\np_1_cw 6\np_1_ccw 7\np_1_f 8\np_1_b 9\np_1_l 10\np_1_r 11\np_2_cw 12\np_2_ccw 13\np_2_f 14\np_2_b 15\np_2_l 16\np_2_r 17\np_3_cw 18\np_3_ccw 19\np_3_f 20\np_3_b 21\np_3_l 22\np_3_r 23\np_4_cw 24\np_4_ccw 25\np_4_f 26\np_4_b 27\np_4_l 28\np_4_r 29\np_5_cw 30\np_5_ccw 31\np_5_f 32\np_5_b 33\np_5_l 34\np_5_r 35\n"
     ]
    }
   ],
   "source": [
    "for i in t:\n",
    "    print(i,t[i])"
   ]
  },
  {
   "cell_type": "code",
   "execution_count": 99,
   "metadata": {},
   "outputs": [
    {
     "output_type": "execute_result",
     "data": {
      "text/plain": [
       "[0,\n",
       " 1,\n",
       " 2,\n",
       " 3,\n",
       " 4,\n",
       " 5,\n",
       " 6,\n",
       " 7,\n",
       " 8,\n",
       " 9,\n",
       " 10,\n",
       " 11,\n",
       " 12,\n",
       " 13,\n",
       " 14,\n",
       " 15,\n",
       " 16,\n",
       " 17,\n",
       " 18,\n",
       " 19,\n",
       " 20,\n",
       " 21,\n",
       " 22,\n",
       " 23,\n",
       " 24,\n",
       " 25,\n",
       " 26,\n",
       " 27,\n",
       " 28,\n",
       " 29,\n",
       " 30,\n",
       " 31,\n",
       " 32,\n",
       " 33,\n",
       " 34,\n",
       " 35]"
      ]
     },
     "metadata": {},
     "execution_count": 99
    }
   ],
   "source": [
    "[i for i in t.values()]"
   ]
  },
  {
   "cell_type": "code",
   "execution_count": null,
   "metadata": {},
   "outputs": [],
   "source": []
  }
 ]
}